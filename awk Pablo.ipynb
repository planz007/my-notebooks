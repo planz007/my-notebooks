{
 "cells": [
  {
   "cell_type": "markdown",
   "id": "b173f97d-0fe9-443a-b75d-36850f999a12",
   "metadata": {},
   "source": [
    "<div class=\"alert alert-block alert-info\">\n",
    "\n",
    "# SFS Notebook 1 - mawk (Awk and Gawk)\n",
    "\n",
    "<b>Created for Edinburgh College 2023\n",
    "    by: </b> [michael.ferrie@edinburghcollege.ac.uk](mailto:michael.ferrie@edinburghcollege.ac.uk)"
   ]
  },
  {
   "cell_type": "markdown",
   "id": "bb4b9ed2-9208-4bb6-9e03-8d71a044bac8",
   "metadata": {},
   "source": [
    "![Coding Gif](https://cdn.githubraw.com/michaelferrie/labs/main/code-coding.gif)"
   ]
  },
  {
   "cell_type": "markdown",
   "id": "a58921b6-65d4-4304-8bc4-df420c498ff3",
   "metadata": {},
   "source": [
    "# Introduction\n",
    "\n",
    "Some people might tell you that you don't need to learn awk, despite the naysayers I have used it many times and not many people are any good at it, but not you - you will not be one of those sad people who ask me to write their awks, you can write your own.\n",
    "\n",
    "Imagine you have a 2 million line log file and you very quickly need to get out the 3rd and 85th column and you only want lines that end with x and start with y, and you have 10 seconds to achieve this when you are SSH'd into a remote server. That's where awk will be most useful. While other folk are speaking about how they can split the file up to open it in Excel, you'll be off for lunch.\n",
    "\n",
    "So, what actually is [awk](https://en.wikipedia.org/wiki/AWK), it was invented by three computer scientists and each of their last names are a, w, and k. The original awk was written for the Unix operating system but we will be using the Debian implementation of awk, named mawk. A Debian package maintainer wrote a faster and more efficient version of awk and he was called Mike, that's why it's called mawk.\n",
    "\n",
    "This lab provides an introduction to the programming language awk. There is an advanced tutorial [here](https://www.grymoire.com/Unix/Awk.html) if you would like to learn more about. I would also recommend the [O'Reilly Sed & Awk](https://www.amazon.co.uk/sed-awk-Pocket-Reference-OReilly/dp/0596003528) pocket reference book.\n",
    "\n",
    "# Structure of awk programs\n",
    "\n",
    "Awk programs often follow the structure:\n",
    "\n",
    "The program starts with a begin block, this is the start of the program using the keyword `BEGIN`:\n",
    "\n",
    "BEGIN {commands}\n",
    "\n",
    "Then there is usually some kind of pattern which is between /pattern/\n",
    "\n",
    "Then there is an `END` block\n",
    "\n",
    "In order to demonstrate awk in action in Jupyter, click File > New > Text File, copy with CTRL+C then paste the following into the text file. Click File > Save Text As, and save it as pings.txt, this is just a basic file we can use to practice. We have some log data on pings:\n",
    "\n",
    "```\n",
    "1)  R1   S1  11\n",
    "2)  R1   S2  20\n",
    "3)  S3   S4  14\n",
    "4)  D1   D2  16\n",
    "5)  A5   S1  26\n",
    "```"
   ]
  },
  {
   "cell_type": "markdown",
   "id": "79aa8ca3-63f5-41e7-bb67-3c8b936e4b1e",
   "metadata": {},
   "source": [
    "# Getting into awk with Print\n",
    "\n",
    "First lets add some headers to the file and display the output, I will break this command down:\n",
    "\n",
    "1. First we say awk - to tell the computer we are using awk - _obviously_ ;)\n",
    "2. Then open quotes to start the program and write `BEGIN`\n",
    "3. Next we start the pattern with {}, and say print with `printf`\n",
    "4. Double quotes then say what we want to print adding `\\n` to the end to add a new line\n",
    "5. Close } and then add `{print}` to the end and close quotes, then add the filename"
   ]
  },
  {
   "cell_type": "code",
   "execution_count": null,
   "id": "c8ea9d36-f9a2-4504-9f9c-c760c79a1018",
   "metadata": {},
   "outputs": [
    {
     "name": "stdout",
     "output_type": "stream",
     "text": [
      "Ping Source Dest Time-ms \n",
      "1)  R1   S1  11\n",
      "2)  R1   S2  20\n",
      "3)  S3   S4  14\n",
      "4)  D1   D2  16\n",
      "5)  A5   S1  26\n"
     ]
    }
   ],
   "source": [
    "awk 'BEGIN{printf \"Ping Source Dest Time-ms \\n\"} {print}' pings.txt"
   ]
  },
  {
   "cell_type": "markdown",
   "id": "9daa9516-c68e-4800-86bc-17bb16aaaf0b",
   "metadata": {},
   "source": [
    "Let's say we only want column 1, we can tell awk to just print that with `$1`, column 2 with `$2`, column 3 with `$3` and so on."
   ]
  },
  {
   "cell_type": "code",
   "execution_count": null,
   "id": "12dcd1a2-adfc-4359-98ef-99613ef697b3",
   "metadata": {},
   "outputs": [
    {
     "name": "stdout",
     "output_type": "stream",
     "text": [
      "1)\n",
      "2)\n",
      "3)\n",
      "4)\n",
      "5)\n"
     ]
    }
   ],
   "source": [
    "awk '{print $1}' pings.txt"
   ]
  },
  {
   "cell_type": "markdown",
   "id": "78ebcc39-34bf-4854-b179-00222920006c",
   "metadata": {},
   "source": [
    "# Built-in functions"
   ]
  },
  {
   "cell_type": "markdown",
   "id": "f3bfa3e4-020b-450c-ab80-2faa53c2b06f",
   "metadata": {},
   "source": [
    "Here are some useful built-in functions, we can specify a variable to use in the program with `-v`:"
   ]
  },
  {
   "cell_type": "code",
   "execution_count": null,
   "id": "2bfc1fda-c03d-49c6-b1af-fada7f4be45c",
   "metadata": {},
   "outputs": [
    {
     "name": "stdout",
     "output_type": "stream",
     "text": [
      "5\n"
     ]
    }
   ],
   "source": [
    "awk -v my_var=5 'BEGIN { print my_var }'"
   ]
  },
  {
   "cell_type": "markdown",
   "id": "711ab553-399d-4091-99f9-5594c0655dc7",
   "metadata": {},
   "source": [
    "If we want more than one variable, we need to assign them in the program ; delimited:"
   ]
  },
  {
   "cell_type": "code",
   "execution_count": null,
   "id": "ad0e4613-6824-4579-8ca4-2be050254283",
   "metadata": {},
   "outputs": [
    {
     "name": "stdout",
     "output_type": "stream",
     "text": [
      "Area = (length * breadth) =  1000\n"
     ]
    }
   ],
   "source": [
    "awk 'BEGIN { l = 50; b = 20; print \"Area = (length * breadth) = \", (l * b) }'"
   ]
  },
  {
   "cell_type": "markdown",
   "id": "cea0fa51-1eed-439e-80cf-b0299d5db809",
   "metadata": {},
   "source": [
    "We can use awk as a calculator, here is how to square a number with `sqrt()`:"
   ]
  },
  {
   "cell_type": "code",
   "execution_count": null,
   "id": "5893eb3a-cf1b-4201-8d12-cdf74a6c6843",
   "metadata": {},
   "outputs": [
    {
     "name": "stdout",
     "output_type": "stream",
     "text": [
      "5\n"
     ]
    }
   ],
   "source": [
    "awk -v my_int=25 'BEGIN { print sqrt(my_int) }'"
   ]
  },
  {
   "cell_type": "markdown",
   "id": "5f49ca03-4bd4-4722-9b75-75b8cb85a680",
   "metadata": {},
   "source": [
    "If we want to put parts on a new line to improve readability, we should keep code at around 70 characters or less per line due to terminal limitations we can say newline with `\\`. Awk doesnt care about tabs/spaces like python so you can use tabs to indent it."
   ]
  },
  {
   "cell_type": "code",
   "execution_count": null,
   "id": "b910b805-07fe-4478-b99d-b23afb24a90a",
   "metadata": {},
   "outputs": [
    {
     "name": "stdout",
     "output_type": "stream",
     "text": [
      "Area = (length * breadth) =  1000\n"
     ]
    }
   ],
   "source": [
    "awk 'BEGIN { l = 50; b = 20; \\\n",
    "        print \\\n",
    "            \"Area = (length * breadth) = \", (l * b) \\\n",
    "            }'"
   ]
  },
  {
   "cell_type": "markdown",
   "id": "8cfcb8d1-b416-4cd1-972c-0dc3b3aad78f",
   "metadata": {},
   "source": [
    "Here is how to write a loop in awk, first assign a variable, then use the keyword `do`, then print the variable, then increment with `i+=1` when use the `while()` function to specify a condition:"
   ]
  },
  {
   "cell_type": "code",
   "execution_count": null,
   "id": "60fedc02-6e63-4e5e-ba64-67ac4777bfee",
   "metadata": {},
   "outputs": [
    {
     "name": "stdout",
     "output_type": "stream",
     "text": [
      "0\n",
      "1\n",
      "2\n",
      "3\n",
      "4\n"
     ]
    }
   ],
   "source": [
    "awk 'BEGIN { i = 0; \\\n",
    "        do { print i; i+=1; } while(i < 5) \\\n",
    "     }'"
   ]
  },
  {
   "cell_type": "markdown",
   "id": "4ede5b2e-a83e-44a2-ac5b-cfedeadb58b8",
   "metadata": {},
   "source": [
    "# Conditionals \n",
    "\n",
    "Conditionals are defined inside `()` each separate predicate and alternative with `;` separated by {, look at this example:"
   ]
  },
  {
   "cell_type": "code",
   "execution_count": null,
   "id": "e502b4f6-39e4-4fde-b15c-043bb7e9cc3f",
   "metadata": {},
   "outputs": [
    {
     "name": "stdout",
     "output_type": "stream",
     "text": [
      "Number is 34\n",
      "34 is less than 35\n"
     ]
    }
   ],
   "source": [
    "awk 'BEGIN { \\\n",
    "\n",
    "a = 34; print \"Number is \" a\n",
    "\n",
    "if (a > 35)\n",
    "    print a \" is greater than 35\";\n",
    "else\n",
    "    print a \" is less than 35\";\n",
    "}'"
   ]
  },
  {
   "cell_type": "markdown",
   "id": "3d7eca1b-b589-4a39-81ec-06383a2fd4ac",
   "metadata": {},
   "source": [
    "Arguably, this is easier than python as you don't need to worry about spaces or indentation. Here is a more elaborate example, I'll add in comments to explain inside the program:"
   ]
  },
  {
   "cell_type": "code",
   "execution_count": null,
   "id": "fcaf43a3-2e22-474d-98ed-ac144ae1ba09",
   "metadata": {},
   "outputs": [
    {
     "name": "stdout",
     "output_type": "stream",
     "text": [
      "Total of scores is 15\n",
      "Average score is 5\n",
      "Total scores less than 35\n"
     ]
    }
   ],
   "source": [
    "# start program and define variables\n",
    "awk 'BEGIN { \\\n",
    "score1 = 5 ; score2 = 6 ; score3 = 4 ; \\\n",
    "\n",
    "# print totals and calculate average\n",
    "print \"Total of scores is \" score1 + score2 + score3 \\\n",
    "     \"\\nAverage score is \" (score1+score2+score3) / 3\n",
    "\n",
    "# create conditional, check if more than 35\n",
    "if (score1+score2+score3 >= 35)\n",
    "    print \"Total scores greater than 35\";\n",
    "else\n",
    "    print \"Total scores less than 35\";\n",
    "}'"
   ]
  },
  {
   "cell_type": "markdown",
   "id": "3ed6e815-a6af-46b1-a042-d9f60723932f",
   "metadata": {},
   "source": [
    "## Download CSV\n",
    "For this lab I have a CSV file of different countries, we can use this to perform some tasks with awk download the file and open it to look at the layout."
   ]
  },
  {
   "cell_type": "code",
   "execution_count": null,
   "id": "ca15051a-5a1a-4e55-85e9-0e101edad658",
   "metadata": {},
   "outputs": [
    {
     "name": "stdout",
     "output_type": "stream",
     "text": [
      "--2022-12-22 17:21:00--  https://raw.githubusercontent.com/michaelferrie/labs/main/wdicountry.csv\n",
      "Resolving raw.githubusercontent.com (raw.githubusercontent.com)... 185.199.109.133, 185.199.108.133, 185.199.110.133, ...\n",
      "Connecting to raw.githubusercontent.com (raw.githubusercontent.com)|185.199.109.133|:443... connected.\n",
      "HTTP request sent, awaiting response... 200 OK\n",
      "Length: 114403 (112K) [text/plain]\n",
      "Saving to: ‘wdicountry.csv.4’\n",
      "\n",
      "wdicountry.csv.4    100%[===================>] 111.72K  --.-KB/s    in 0.03s   \n",
      "\n",
      "2022-12-22 17:21:00 (3.78 MB/s) - ‘wdicountry.csv.4’ saved [114403/114403]\n",
      "\n"
     ]
    }
   ],
   "source": [
    "wget  https://raw.githubusercontent.com/michaelferrie/labs/main/wdicountry.csv"
   ]
  },
  {
   "cell_type": "markdown",
   "id": "a0d34429-9def-452f-92a0-19bccab70cdb",
   "metadata": {},
   "source": [
    "## Check awk version"
   ]
  },
  {
   "cell_type": "code",
   "execution_count": 3,
   "id": "2b79a867-a29e-4244-8338-7785166f38e5",
   "metadata": {},
   "outputs": [
    {
     "ename": "SyntaxError",
     "evalue": "invalid syntax (757777323.py, line 1)",
     "output_type": "error",
     "traceback": [
      "\u001b[1;36m  Cell \u001b[1;32mIn[3], line 1\u001b[1;36m\u001b[0m\n\u001b[1;33m    awk -W version\u001b[0m\n\u001b[1;37m           ^\u001b[0m\n\u001b[1;31mSyntaxError\u001b[0m\u001b[1;31m:\u001b[0m invalid syntax\n"
     ]
    }
   ],
   "source": [
    "awk -W version"
   ]
  },
  {
   "cell_type": "markdown",
   "id": "e3c75e12-dfb8-453d-87ca-5dab85c99ae4",
   "metadata": {},
   "source": [
    "# Printing\n",
    "\n",
    "Print the full file with awk"
   ]
  },
  {
   "cell_type": "code",
   "execution_count": null,
   "id": "9d6afd7e-8bb0-4a67-abde-24a47ea7028f",
   "metadata": {
    "tags": []
   },
   "outputs": [
    {
     "name": "stdout",
     "output_type": "stream",
     "text": [
      "Country Code,Short Name,Table Name,Long Name,2-alpha code,Currency Unit,Special Notes,Region,Income Group,WB-2 code,National accounts base year,National accounts reference year,SNA price valuation,Lending category,Other groups,System of National Accounts,Alternative conversion factor,PPP survey year,Balance of Payments Manual in use,External debt Reporting status,System of trade,Government Accounting concept,IMF data dissemination standard,Latest population census,Latest household survey,Source of most recent Income and expenditure data,Vital registration complete,Latest agricultural census,Latest industrial data,Latest trade data\n",
      "ABW,Aruba,Aruba,Aruba,AW,Aruban florin,,Latin America & Caribbean,High income,AW,2000,,Value added at basic prices (VAB),,,Country uses the 1993 System of National Accounts methodology,,2011,BPM5 (Converted into BPM6 by IMF),,General trade system,,Enhanced General Data Dissemination System (e-GDDS),2010,,,Yes,,,2016\n",
      "AFG,Afghanistan,Afghanistan,Islamic State of Afghanistan,AF,Afghan afghani,,South Asia,Low income,AF,2002/03,,Value added at basic prices (VAB),IDA,HIPC,Country uses the 1993 System of National Accounts methodology,,,BPM6,Actual,General trade system,Consolidated central government,Enhanced General Data Dissemination System (e-GDDS),1979,\"Demographic and Health Survey, 2015\",\"Integrated household survey (IHS), 2016/17\",,,,2017\n",
      "AGO,Angola,Angola,People's Republic of Angola,AO,Angolan kwanza,,Sub-Saharan Africa,Lower middle income,AO,2002,,Value added at basic prices (VAB),IBRD,,Country uses the 1993 System of National Accounts methodology,1991–96,2011,BPM6,Actual,Special trade system,Budgetary central government,Enhanced General Data Dissemination System (e-GDDS),2014,\"Demographic and Health Survey, 2015/16\",\"Integrated household survey (IHS), 2008/09\",,,,2017\n",
      "ALB,Albania,Albania,Republic of Albania,AL,Albanian lek,,Europe & Central Asia,Upper middle income,AL,Original chained constant price data are rescaled.,2010,Value added at basic prices (VAB),IBRD,,Country uses the 2008 System of National Accounts methodology,,Rolling,BPM6,Actual,Special trade system,Consolidated central government,Enhanced General Data Dissemination System (e-GDDS),2011,\"Demographic and Health Survey, 2017/18\",\"Living Standards Measurement Study Survey (LSMS), 2012\",Yes,2012,2013,2017\n",
      "AND,Andorra,Andorra,Principality of Andorra,AD,Euro,,Europe & Central Asia,High income,AD,2000,,Value added at basic prices (VAB),,,Country uses the 1993 System of National Accounts methodology,,,,,General trade system,,,2011. Population data compiled from administrative registers.,,,Yes,,,\n",
      "ARB,Arab World,Arab World,Arab World,1A,,Arab World aggregate. Arab World is composed of members of the League of Arab States.,,,1A,,,,,,,,,,,,,,,,,,,,2016\n",
      "ARE,United Arab Emirates,United Arab Emirates,United Arab Emirates,AE,U.A.E. dirham,,Middle East & North Africa,High income,AE,2010,,Value added at producer prices (VAP),,,Country uses the 1993 System of National Accounts methodology,,2011,,,Special trade system,Consolidated central government,Enhanced General Data Dissemination System (e-GDDS),2010,\"World Health Survey, 2003\",,,2012,1985,2017\n",
      "ARG,Argentina,Argentina,Argentine Republic,AR,Argentine peso,,Latin America & Caribbean,Upper middle income,AR,2004,,Value added at basic prices (VAB),IBRD,,Country uses the 2008 System of National Accounts methodology,1971–84; 2012-15,,BPM6,Actual,Special trade system,Consolidated central government,Special Data Dissemination Standard (SDDS),2010,\"Multiple Indicator Cluster Survey, 2011/12\",\"Integrated household survey (IHS), 2016\",Yes,2008,2002,2017\n",
      "ARM,Armenia,Armenia,Republic of Armenia,AM,Armenian dram,,Europe & Central Asia,Upper middle income,AM,Original chained constant price data are rescaled.,2012,Value added at basic prices (VAB),IBRD,,Country uses the 2008 System of National Accounts methodology,1990–95,2011,BPM6,Actual,General trade system,Consolidated central government,Special Data Dissemination Standard (SDDS),2011,\"Demographic and Health Survey, 2015/16\",\"Integrated household survey (IHS), 2016\",Yes,2014,,2017\n",
      "ASM,American Samoa,American Samoa,American Samoa,AS,U.S. dollar,,East Asia & Pacific,Upper middle income,AS,2009,,Value added at basic prices (VAB),,,Country uses the 2008 System of National Accounts methodology,,2011 (household consumption only).,,,Special trade system,,,2010,,,Yes,2008,,2017\n",
      "ATG,Antigua and Barbuda,Antigua and Barbuda,Antigua and Barbuda,AG,East Caribbean dollar,,Latin America & Caribbean,High income,AG,2006,,Value added at basic prices (VAB),IBRD,,Country uses the 2008 System of National Accounts methodology,,2011,BPM6,,General trade system,Budgetary central government,Enhanced General Data Dissemination System (e-GDDS),2011,,,Yes,2007,,2017\n",
      "AUS,Australia,Australia,Commonwealth of Australia,AU,Australian dollar,Fiscal year end: June 30; reporting period for national accounts data: FY.,East Asia & Pacific,High income,AU,Original chained constant price data are rescaled.,2017,Value added at basic prices (VAB),,,Country uses the 2008 System of National Accounts methodology,,2011,BPM6,,General trade system,Consolidated central government,Special Data Dissemination Standard (SDDS),2016,,\"Expenditure survey/budget survey (ES/BS), 2010\",Yes,2015-2016,2013,2017\n",
      "AUT,Austria,Austria,Republic of Austria,AT,Euro,\"A simple multiplier is used to convert the national currencies of EMU members to euros. The following irrevocable euro conversion rate was adopted by the EU Council on January 1, 1999: 1 euro = 13.7603 Austrian schilling. Please note that historical data before 1999 are not actual euros and are not comparable or suitable for aggregation across countries.\",Europe & Central Asia,High income,AT,Original chained constant price data are rescaled.,2010,Value added at basic prices (VAB),,Euro area,Country uses the 2008 System of National Accounts methodology,,Rolling,BPM6,,Special trade system,Consolidated central government,Special Data Dissemination Standard Plus (SDDS+),2011. Population data compiled from administrative registers.,,\"Income survey (IS), 2015\",Yes,2010,2014,2017\n",
      "AZE,Azerbaijan,Azerbaijan,Republic of Azerbaijan,AZ,New Azeri manat,,Europe & Central Asia,Upper middle income,AZ,Original chained constant price data are rescaled.,2005,Value added at basic prices (VAB),IBRD,,Country uses the 1993 System of National Accounts methodology,1992–95,2011,BPM6,Actual,General trade system,Consolidated central government,Enhanced General Data Dissemination System (e-GDDS),2009,\"Demographic and Health Survey, 2006\",\"Living Standards Measurement Study Survey (LSMS), 2012\",Yes,2015,2013,2017\n",
      "BDI,Burundi,Burundi,Republic of Burundi,BI,Burundi franc,,Sub-Saharan Africa,Low income,BI,2005,,Value added at basic prices (VAB),IDA,HIPC,Country uses the 1993 System of National Accounts methodology,,2011,BPM6,Actual,General trade system,Budgetary central government,Enhanced General Data Dissemination System (e-GDDS),2008,\"Demographic and Health Survey, 2016/17\",\"Core Welfare Indicator Questionnaire Survey (CWIQ), 2014\",Yes,,2012,2017\n",
      "BEL,Belgium,Belgium,Kingdom of Belgium,BE,Euro,\"A simple multiplier is used to convert the national currencies of EMU members to euros. The following irrevocable euro conversion rate was adopted by the EU Council on January 1, 1999: 1 euro = 40.3399 Belgian franc. Please note that historical data before 1999 are not actual euros and are not comparable or suitable for aggregation across countries.\",Europe & Central Asia,High income,BE,Original chained constant price data are rescaled.,2010,Value added at basic prices (VAB),,Euro area,Country uses the 2008 System of National Accounts methodology,,Rolling,BPM6,,Special trade system,Consolidated central government,Special Data Dissemination Standard (SDDS),\"2011. Population data compiled from administrative registers in combination with other sources of data, such as a sample surveys.\",,\"Income survey (IS), 2015\",Yes,2010,2014,2017\n",
      "BEN,Benin,Benin,Republic of Benin,BJ,West African CFA franc,,Sub-Saharan Africa,Low income,BJ,2007,,Value added at basic prices (VAB),IDA,HIPC,Country uses the 1993 System of National Accounts methodology,1992,2011,BPM6,Actual,General trade system,Budgetary central government,Enhanced General Data Dissemination System (e-GDDS),2013,\"Demographic and Health Survey, 2017/18\",\"Core Welfare Indicator Questionnaire Survey (CWIQ), 2015\",,,1981,2017\n",
      "BFA,Burkina Faso,Burkina Faso,Burkina Faso,BF,West African CFA franc,,Sub-Saharan Africa,Low income,BF,1999,,Value added at basic prices (VAB),IDA,HIPC,Country uses the 1993 System of National Accounts methodology,1992–93,2011,BPM6,Actual,General trade system,Budgetary central government,Enhanced General Data Dissemination System (e-GDDS),2006,\"Malaria Indicator Survey, 2017/18\",\"Core Welfare Indicator Questionnaire Survey (CWIQ), 2014\",,2006-2010,1983,2017\n",
      "BGD,Bangladesh,Bangladesh,People's Republic of Bangladesh,BD,Bangladeshi taka,Fiscal year end: June 30; reporting period for national accounts data: FY.,South Asia,Lower middle income,BD,2005/06,,Value added at basic prices (VAB),IDA,,Country uses the 1993 System of National Accounts methodology,,2011,BPM6,Actual,General trade system,Budgetary central government,Enhanced General Data Dissemination System (e-GDDS),2011,\"Demographic and Health Survey, 2017/18\",\"Integrated household survey (IHS), 2016\",,2008,2011,2017\n",
      "BGR,Bulgaria,Bulgaria,Republic of Bulgaria,BG,Bulgarian lev,,Europe & Central Asia,Upper middle income,BG,Original chained constant price data are rescaled.,2010,Value added at basic prices (VAB),IBRD,,Country uses the 2008 System of National Accounts methodology,\"1978–89, 1991–92\",Rolling,BPM6,Actual,Special trade system,Consolidated central government,Special Data Dissemination Standard Plus (SDDS+),2011,\"Living Standards Measurement Study, 2007\",\"Expenditure survey/budget survey (ES/BS), 2014\",Yes,2010,2014,2017\n",
      "BHR,Bahrain,Bahrain,Kingdom of Bahrain,BH,Bahraini dinar,,Middle East & North Africa,High income,BH,2010,,Value added at producer prices (VAP),,,Country uses the 1993 System of National Accounts methodology,,2011,BPM6,,General trade system,Budgetary central government,Enhanced General Data Dissemination System (e-GDDS),2010. Population data compiled from administrative registers.,,,Yes,2010,2013,2017\n",
      "BHS,The Bahamas,\"Bahamas, The\",Commonwealth of The Bahamas,BS,Bahamian dollar,,Latin America & Caribbean,High income,BS,2012,,Value added at basic prices (VAB),,,Country uses the 2008 System of National Accounts methodology,,2011,BPM5 (Converted into BPM6 by IMF),,General trade system,Consolidated central government,Enhanced General Data Dissemination System (e-GDDS),2010,,,,,1998,2017\n",
      "BIH,Bosnia and Herzegovina,Bosnia and Herzegovina,Bosnia and Herzegovina,BA,Bosnia and Herzegovina convertible mark,,Europe & Central Asia,Upper middle income,BA,Original chained constant price data are rescaled.,2015,Value added at basic prices (VAB),IBRD,,Country uses the 1993 System of National Accounts methodology,,Rolling,BPM6,Actual,Special trade system,Consolidated central government,Enhanced General Data Dissemination System (e-GDDS),2013,\"Multiple Indicator Cluster Survey, 2011/12\",\"Expenditure survey/budget survey (ES/BS), 2015\",Yes,,2011,2017\n",
      "BLR,Belarus,Belarus,Republic of Belarus,BY,Belarusian rubel,\"Data before 2015 were adjusted to reflect the new denomination effective from July 1, 2016 (BYN), a decrease of 10,000 times (1 BYN = 10,000 BYR)\",Europe & Central Asia,Upper middle income,BY,Original chained constant price data are rescaled.,2014,Value added at basic prices (VAB),IBRD,,Country uses the 2008 System of National Accounts methodology,1990–95,2011,BPM6,Actual,General trade system,Consolidated central government,Special Data Dissemination Standard (SDDS),2009,\"Multiple Indicator Cluster Survey, 2012\",\"Integrated household survey (IHS), 2017\",Yes,,2014,2017\n",
      "BLZ,Belize,Belize,Belize,BZ,Belize dollar,,Latin America & Caribbean,Upper middle income,BZ,2000,,Value added at basic prices (VAB),IBRD,,Country uses the 1993 System of National Accounts methodology,,2011,BPM6,Actual,General trade system,Budgetary central government,Enhanced General Data Dissemination System (e-GDDS),2010,\"Multiple Indicator Cluster Survey, 2015/16\",\"Labor force survey (LFS), 1999\",,2011,1992,2017\n",
      "BMU,Bermuda,Bermuda,The Bermudas,BM,Bermuda dollar,,North America,High income,BM,2006,,Value added at basic prices (VAB),,,Country uses the 1993 System of National Accounts methodology,,2011,BPM6,,General trade system,,,2010,,,Yes,,,2017\n",
      "BOL,Bolivia,Bolivia,Plurinational State of Bolivia,BO,Bolivian Boliviano,,Latin America & Caribbean,Lower middle income,BO,1990,,Value added at basic prices (VAB),IBRD,HIPC,Country uses the 1993 System of National Accounts methodology,1960–85,2011,BPM6,Actual,General trade system,,Enhanced General Data Dissemination System (e-GDDS),2012,\"Demographic and Health Survey, 2008\",\"Integrated household survey (IHS), 2016\",,2013,2010,2017\n",
      "BRA,Brazil,Brazil,Federative Republic of Brazil,BR,Brazilian real,,Latin America & Caribbean,Upper middle income,BR,Original chained constant price data are rescaled.,2010,Value added at basic prices (VAB),IBRD,,Country uses the 2008 System of National Accounts methodology,,2011,BPM6,Actual,Special trade system,Consolidated central government,Special Data Dissemination Standard (SDDS),2010,\"National Health Survey, 2013\",\"Integrated household survey (IHS), 2016\",Yes,2006,2013,2017\n",
      "BRB,Barbados,Barbados,Barbados,BB,Barbados dollar,,Latin America & Caribbean,High income,BB,2010,,Value added at basic prices (VAB),,,Country uses the 1993 System of National Accounts methodology,,2011,BPM6,,General trade system,Budgetary central government,Enhanced General Data Dissemination System (e-GDDS),2010,\"Multiple Indicator Cluster Survey, 2012\",,Yes,,1997,2017\n",
      "BRN,Brunei,Brunei Darussalam,Brunei Darussalam,BN,Brunei dollar,,East Asia & Pacific,High income,BN,2010,,Value added at producer prices (VAP),,,Country uses the 2008 System of National Accounts methodology,,2011,BPM6,,Special trade system,,Enhanced General Data Dissemination System (e-GDDS),2011,,,Yes,,,2017\n",
      "BTN,Bhutan,Bhutan,Kingdom of Bhutan,BT,Bhutanese ngultrum,,South Asia,Lower middle income,BT,2000,,Value added at basic prices (VAB),IDA,,Country uses the 1993 System of National Accounts methodology,,2011,BPM6,Actual,General trade system,Consolidated central government,Enhanced General Data Dissemination System (e-GDDS),2017,\"Multiple Indicator Cluster Survey, 2010\",\"Integrated household survey (IHS), 2017\",,\"2009. Economic Census, Natural Resources Census, Livestock Census, Livestock and Aquaculture Census or Sample Agricultural Census.\",,2017\n",
      "BWA,Botswana,Botswana,Republic of Botswana,BW,Botswana pula,,Sub-Saharan Africa,Upper middle income,BW,2006,,Value added at basic prices (VAB),IBRD,,Country uses the 1993 System of National Accounts methodology,,2011,BPM6,Actual,General trade system,Budgetary central government,Enhanced General Data Dissemination System (e-GDDS),2011,Family Health Survey 2007/08,\"Core Welfare Indicator Questionnaire Survey (CWIQ), 2015/16\",,2015,2013,2017\n",
      "CAF,Central African Republic,Central African Republic,Central African Republic,CF,Central African CFA franc,,Sub-Saharan Africa,Low income,CF,2005,,Value added at basic prices (VAB),IDA,HIPC,Country uses the 1993 System of National Accounts methodology,,2011,BPM5 (Converted into BPM6 by IMF),Actual,General trade system,Budgetary central government,Enhanced General Data Dissemination System (e-GDDS),2003,\"Multiple Indicator Cluster Survey, 2010\",\"Priority survey (PS), 2008\",,,1993,2017\n",
      "CAN,Canada,Canada,Canada,CA,Canadian dollar,Fiscal year end: March 31; reporting period for national accounts data: CY.,North America,High income,CA,Original chained constant price data are rescaled.,2010,Value added at basic prices (VAB),,,Country uses the 2008 System of National Accounts methodology,,2011,BPM6,,General trade system,Consolidated central government,Special Data Dissemination Standard Plus (SDDS+),2016,,\"Labor force survey (LFS), 2013\",Yes,2016,2014,2017\n",
      "CEB,Central Europe and the Baltics,Central Europe and the Baltics,Central Europe and the Baltics,B8,,Central Europe and the Baltics aggregate.,,,B8,,,,,,,,,,,,,,,,,,,,2016\n",
      "CHE,Switzerland,Switzerland,Switzerland,CH,Swiss franc,,Europe & Central Asia,High income,CH,Original chained constant price data are rescaled.,2010,Value added at basic prices (VAB),,,Country uses the 2008 System of National Accounts methodology,,Rolling,BPM6,,Special trade system,Consolidated central government,Special Data Dissemination Standard (SDDS),\"2010. Population data compiled from administrative registers in combination with other sources of data, such as a sample surveys.\",,\"Income survey (IS), 2015\",Yes,2010,2013,2017\n",
      "CHI,Channel Islands,Channel Islands,Channel Islands,,Pound sterling,,Europe & Central Asia,High income,JG,2007,,,,,,,,,,,,,Guernsey: 2015; Jersey: 2011.,,,Yes. Vital registration for Guernsey and Jersey.,,,\n",
      "CHL,Chile,Chile,Republic of Chile,CL,Chilean peso,,Latin America & Caribbean,High income,CL,Original chained constant price data are rescaled.,2013,Value added at basic prices (VAB),IBRD,,Country uses the 2008 System of National Accounts methodology,,2011,BPM6,,General trade system,,Special Data Dissemination Standard (SDDS),2017,,\"Integrated household survey (IHS), 2017\",Yes,2007,2013,2017\n",
      "CHN,China,China,People's Republic of China,CN,Chinese yuan,\"On 1 July 1997 China resumed its exercise of sovereignty over Hong Kong; and on 20 December 1999 China resumed its exercise of sovereignty over Macao. Unless otherwise noted, data for China do not include data for Hong Kong SAR, China; Macao SAR, China; or Taiwan, China.\",East Asia & Pacific,Upper middle income,CN,2015,,Value added at producer prices (VAP),IBRD,,Country uses the 2008 System of National Accounts methodology,1978–93,2011,BPM6,Preliminary,General trade system,Consolidated central government,Special Data Dissemination Standard (SDDS),2010,\"National Sample Survey on Population Changes, 2014\",\"Integrated household survey (IHS), 2015\",,2016,2007,2017\n",
      "CIV,Côte d'Ivoire,Côte d'Ivoire,Republic of Côte d'Ivoire,CI,West African CFA franc,,Sub-Saharan Africa,Lower middle income,CI,2009,,Value added at basic prices (VAB),IDA,HIPC,Country uses the 1993 System of National Accounts methodology,,2011,BPM6,Actual,Special trade system,Budgetary central government,Enhanced General Data Dissemination System (e-GDDS),2014,\"Multiple Indicator Cluster Survey, 2016\",\"Integrated household survey (IHS), 2015\",,2014-2015,1997,2017\n",
      "CMR,Cameroon,Cameroon,Republic of Cameroon,CM,Central African CFA franc,,Sub-Saharan Africa,Lower middle income,CM,2005,,Value added at basic prices (VAB),Blend,HIPC,Country uses the 1993 System of National Accounts methodology,,2011,BPM6,Actual,Special trade system,,Enhanced General Data Dissemination System (e-GDDS),2005,\"Demographic and Health Survey, 2018\",\"Priority survey (PS), 2014\",,,2002,2017\n",
      "COD,Dem. Rep. Congo,\"Congo, Dem. Rep.\",Democratic Republic of the Congo,CD,Congolese franc,,Sub-Saharan Africa,Low income,ZR,2005,,Value added at basic prices (VAB),IDA,HIPC,Country uses the 1993 System of National Accounts methodology,1999–2001,2011,BPM6,Actual,Special trade system,Budgetary central government,Enhanced General Data Dissemination System (e-GDDS),1984,\"Multiple Indicator Cluster Survey, 2017/18\",\"1-2-3 survey (1-2-3), 2012/13\",,,,2016\n",
      "COG,Congo,\"Congo, Rep.\",Republic of Congo,CG,Central African CFA franc,,Sub-Saharan Africa,Lower middle income,CG,1990,,Value added at producer prices (VAP),Blend,HIPC,Country uses the 1968 System of National Accounts methodology,1993,2011,BPM6,Actual,Special trade system,Budgetary central government,Enhanced General Data Dissemination System (e-GDDS),2007,Multiple Indicator Cluster Survey 2015/16,\"Core Welfare Indicator Questionnaire Survey (CWIQ)/Priority survey (PS), 2011\",,2014-2015,2009,2017\n",
      "COL,Colombia,Colombia,Republic of Colombia,CO,Colombian peso,,Latin America & Caribbean,Upper middle income,CO,2015,,Value added at basic prices (VAB),IBRD,,Country uses the 2008 System of National Accounts methodology,1992–94,2011,BPM6,Actual,Special trade system,Consolidated central government,Special Data Dissemination Standard (SDDS),2018,\"Demographic and Health Survey, 2015\",\"Integrated household survey (IHS), 2017\",,2015,2012,2017\n",
      "COM,Comoros,Comoros,Union of the Comoros,KM,Comorian franc,,Sub-Saharan Africa,Lower middle income,KM,2007,,Value added at producer prices (VAP),IDA,HIPC,Country uses the 2008 System of National Accounts methodology,,2011,BPM5 (Converted into BPM6 by IMF),Actual,General trade system,,Enhanced General Data Dissemination System (e-GDDS),2017,\"Demographic and Health Survey, 2012\",\"Integrated household survey (IHS), 2013\",,,,2017\n",
      "CPV,Cabo Verde,Cabo Verde,Republic of Cabo Verde,CV,Cabo Verde escudo,,Sub-Saharan Africa,Lower middle income,CV,2007,,Value added at basic prices (VAB),Blend,,Country uses the 1993 System of National Accounts methodology,,2011,BPM6,Actual,General trade system,Consolidated central government,Enhanced General Data Dissemination System (e-GDDS),2010,\"Demographic and Health Survey, 2005\",\"Income survey (IS), 2015\",Yes,2015,,2017\n",
      "CRI,Costa Rica,Costa Rica,Republic of Costa Rica,CR,Costa Rican colon,,Latin America & Caribbean,Upper middle income,CR,Original chained constant price data are rescaled.,2012,Value added at basic prices (VAB),IBRD,,Country uses the 2008 System of National Accounts methodology,,2011,BPM6,Actual,General trade system,Consolidated central government,Special Data Dissemination Standard (SDDS),2011,\"Multiple Indicator Cluster Survey, 2018\",\"Integrated household survey (IHS), 2017\",Yes,2014,2013,2017\n",
      "CSS,Caribbean small states,Caribbean small states,Caribbean small states,S3,,,,,S3,,,,,,,,,,,,,,,,,,,,2016\n",
      "CUB,Cuba,Cuba,Republic of Cuba,CU,Cuban peso,,Latin America & Caribbean,Upper middle income,CU,1997,,Value added at basic prices (VAB),,,Country uses the 1993 System of National Accounts methodology,,2011,,,Special trade system,,,2012,\"Multiple Indicator Cluster Survey, 2014\",,Yes,,1989,2017\n",
      "CUW,Curaçao,Curaçao,Curaçao,CW,Netherlands Antillean guilder,,Latin America & Caribbean,High income,CW,2000,,Value added at basic prices (VAB),,,Country uses the 1993 System of National Accounts methodology,,2011,BPM6,,Special trade system,,,2011,,,Yes,,,2016\n",
      "CYM,Cayman Islands,Cayman Islands,Cayman Islands,KY,Cayman Islands dollar,,Latin America & Caribbean,High income,KY,2015,,Value added at basic prices (VAB),,,Country uses the 1993 System of National Accounts methodology,,2011,,,General trade system,,,2010,,,Yes,,,\n",
      "CYP,Cyprus,Cyprus,Republic of Cyprus,CY,Euro,\"A simple multiplier is used to convert the national currencies of EMU members to euros. The following irrevocable euro conversion rate entered into force on January 1, 2008: 1 euro = 0.585274 Cyprus pounds. Please note that historical data are not actual euros and are not comparable or suitable for aggregation across countries.\",Europe & Central Asia,High income,CY,Original chained constant price data are rescaled.,2010,Value added at basic prices (VAB),,Euro area,Country uses the 2008 System of National Accounts methodology,,Rolling,BPM6,,General trade system,Consolidated central government,Special Data Dissemination Standard (SDDS),2011,,\"Income survey (IS), 2015\",Yes,2010,2014,2017\n",
      "CZE,Czech Republic,Czech Republic,Czech Republic,CZ,Czech koruna,,Europe & Central Asia,High income,CZ,Original chained constant price data are rescaled.,2010,Value added at basic prices (VAB),,,Country uses the 2008 System of National Accounts methodology,,Rolling,BPM6,,Special trade system,Consolidated central government,Special Data Dissemination Standard Plus (SDDS+),\"2011. Population data compiled from administrative registers in combination with other sources of data, such as a sample surveys.\",\"World Health Survey, 2003\",\"Income survey (IS), 2015\",Yes,2010,2013,2017\n",
      "DEU,Germany,Germany,Federal Republic of Germany,DE,Euro,,Europe & Central Asia,High income,DE,Original chained constant price data are rescaled.,2010,Value added at basic prices (VAB),,Euro area,Country uses the 2008 System of National Accounts methodology,,Rolling,BPM6,,Special trade system,Consolidated central government,Special Data Dissemination Standard Plus (SDDS+),2011. Population figures compiled from administrative registers and sample surveys while data on housing characteristics are collected through full field enumeration.,,\"Income survey (IS), 2015\",Yes,2010,2014,2017\n",
      "DJI,Djibouti,Djibouti,Republic of Djibouti,DJ,Djibouti franc,,Middle East & North Africa,Lower middle income,DJ,2013,,Value added at basic prices (VAB),IDA,,Country uses the 1993 System of National Accounts methodology,,2011,BPM5 (Converted into BPM6 by IMF),Actual,General trade system,,Enhanced General Data Dissemination System (e-GDDS),2009,\"Multiple Indicator Cluster Survey, 2006\",\"Priority survey (PS), 2017\",,,,2017\n",
      "DMA,Dominica,Dominica,Commonwealth of Dominica,DM,East Caribbean dollar,,Latin America & Caribbean,Upper middle income,DM,2006,,Value added at basic prices (VAB),Blend,,Country uses the 1993 System of National Accounts methodology,,2011,BPM6,Actual,Special trade system,Budgetary central government,Enhanced General Data Dissemination System (e-GDDS),2011,,,Yes,2015,,2017\n",
      "DNK,Denmark,Denmark,Kingdom of Denmark,DK,Danish krone,,Europe & Central Asia,High income,DK,Original chained constant price data are rescaled.,2010,Value added at basic prices (VAB),,,Country uses the 2008 System of National Accounts methodology,,Rolling,BPM6,,General trade system,Consolidated central government,Special Data Dissemination Standard Plus (SDDS+),2011. Population data compiled from administrative registers.,,\"Income survey (IS), 2015\",Yes,2010,2014,2017\n",
      "DOM,Dominican Republic,Dominican Republic,Dominican Republic,DO,Dominican peso,,Latin America & Caribbean,Upper middle income,DO,Original chained constant price data are rescaled.,2007,Value added at basic prices (VAB),IBRD,,Country uses the 2008 System of National Accounts methodology,,2011,BPM6,Actual,General trade system,Consolidated central government,Enhanced General Data Dissemination System (e-GDDS),2010,\"Multiple Indicator Cluster Survey, 2014\",\"Integrated household survey (IHS), 2016\",,2015,1984,2017\n",
      "DZA,Algeria,Algeria,People's Democratic Republic of Algeria,DZ,Algerian dinar,,Middle East & North Africa,Upper middle income,DZ,Original chained constant price data are rescaled.,1999,Value added at basic prices (VAB),IBRD,,Country uses the 1993 System of National Accounts methodology,,2011,BPM6,Actual,Special trade system,Consolidated central government,Enhanced General Data Dissemination System (e-GDDS),2008,\"Multiple Indicator Cluster Survey, 2012/13\",\"Integrated household survey (IHS), 2011\",,,2010,2017\n",
      "EAP,East Asia & Pacific (excluding high income),East Asia & Pacific (excluding high income),East Asia & Pacific (excluding high income),4E,,East Asia and Pacific regional aggregate (does not include high-income economies).,,,4E,,,,,,,,,,,,,,,,,,,,2016\n",
      "EAR,Early-demographic dividend,Early-demographic dividend,Early-demographic dividend,V2,,Early-dividend countries are mostly lower-middle-income countries further along the fertility transition. Fertility rates have fallen below four births per woman and the working-age share of the population is likely rising considerably.,,,V2,,,,,,,,,,,,,,,,,,,,2016\n",
      "EAS,East Asia & Pacific,East Asia & Pacific,East Asia & Pacific,Z4,,East Asia and Pacific regional aggregate (includes all income levels).,,,Z4,,,,,,,,,,,,,,,,,,,,2016\n",
      "ECA,Europe & Central Asia (excluding high income),Europe & Central Asia (excluding high income),Europe & Central Asia (excluding high income),7E,,Europe and Central Asia regional aggregate (does not include high-income economies).,,,7E,,,,,,,,,,,,,,,,,,,,2016\n",
      "ECS,Europe & Central Asia,Europe & Central Asia,Europe & Central Asia,Z7,,Europe and Central Asia regional aggregate (includes all income levels).,,,Z7,,,,,,,,,,,,,,,,,,,,2016\n",
      "ECU,Ecuador,Ecuador,Republic of Ecuador,EC,U.S. dollar,,Latin America & Caribbean,Upper middle income,EC,2007,,Value added at basic prices (VAB),IBRD,,Country uses the 2008 System of National Accounts methodology,,2011,BPM5 (Converted into BPM6 by IMF),Actual,Special trade system,,Special Data Dissemination Standard (SDDS),2010,\"Reproductive Health Survey, 2004\",\"Integrated household survey (IHS), 2018\",,,2008,2017\n",
      "EGY,Egypt,\"Egypt, Arab Rep.\",Arab Republic of Egypt,EG,Egyptian pound,,Middle East & North Africa,Lower middle income,EG,2016/17,,Value added at basic prices (VAB),IBRD,,Country uses the 1993 System of National Accounts methodology,,2011,BPM5 (Converted into BPM6 by IMF),Actual,General trade system,Budgetary central government,Special Data Dissemination Standard (SDDS),2017,\"Health Issues Survey, 2015\",\"Expenditure survey/budget survey (ES/BS), 2015\",Yes,2009-2010,2012,2017\n",
      "EMU,Euro area,Euro area,Euro area,XC,,Euro area aggregate.,,,XC,,,,,,,,,BPM6,,,,,,,,,,,2016\n",
      "ERI,Eritrea,Eritrea,State of Eritrea,ER,Eritrean nakfa,,Sub-Saharan Africa,Low income,ER,2000,,Value added at basic prices (VAB),IDA,HIPC,Country uses the 1968 System of National Accounts methodology,,,BPM5 (Converted into BPM6 by IMF),Estimate,,,,1984,\"Demographic and Health Survey, 2002\",\"Priority survey (PS), 1993\",,,2012,2017\n",
      "ESP,Spain,Spain,Kingdom of Spain,ES,Euro,\"A simple multiplier is used to convert the national currencies of EMU members to euros. The following irrevocable euro conversion rate was adopted by the EU Council on January 1, 1999: 1 euro = 166.386 Spanish peseta. Please note that historical data before 1999 are not actual euros and are not comparable or suitable for aggregation across countries.\",Europe & Central Asia,High income,ES,Original chained constant price data are rescaled.,2010,Value added at basic prices (VAB),,Euro area,Country uses the 2008 System of National Accounts methodology,,Rolling,BPM6,,Special trade system,Consolidated central government,Special Data Dissemination Standard Plus (SDDS+),\"2011. Population data compiled from administrative registers in combination with other sources of data, such as a sample surveys.\",,\"Income survey (IS), 2015\",Yes,2009,2014,2017\n",
      "EST,Estonia,Estonia,Republic of Estonia,EE,Euro,\"The following irrevocable euro conversion rate entered into force on January 1, 2011: 1 euro = 15.6466 Estonian kroon. Please note that historical data are not actual euros and are not comparable or suitable for aggregation across countries.\",Europe & Central Asia,High income,EE,Original chained constant price data are rescaled.,2010,Value added at basic prices (VAB),,Euro area,Country uses the 2008 System of National Accounts methodology,1987–95,Rolling,BPM6,,General trade system,Consolidated central government,Special Data Dissemination Standard (SDDS),\"2012. Population data compiled from administrative registers in combination with other sources of data, such as a sample surveys.\",\"World Health Survey, 2003\",\"Income survey (IS), 2015\",Yes,2010,2014,2017\n",
      "ETH,Ethiopia,Ethiopia,Federal Democratic Republic of Ethiopia,ET,Ethiopian birr,Fiscal year end: July 7; reporting period for national accounts data: FY.,Sub-Saharan Africa,Low income,ET,20015/2016,,Value added at basic prices (VAB),IDA,HIPC,Country uses the 1993 System of National Accounts methodology,,2011,BPM5 (Converted into BPM6 by IMF),Actual,General trade system,Budgetary central government,Enhanced General Data Dissemination System (e-GDDS),2007,\"Demographic and Health Survey, 2016\",\"Expenditure survey/budget survey (ES/BS), 2015/16\",,,2014,2017\n",
      "EUU,European Union,European Union,European Union,EU,,European Union aggregate.,,,EU,,,,,,,,,,,,,,,,,,,,2016\n",
      "FCS,Fragile and conflict affected situations,Fragile and conflict affected situations,Fragile and conflict affected situations,F1,,\"Fragile and conflict affected situations aggregate. Countries with fragile situations are primarily International Development Association-eligible countries and nonmember or inactive countries and territories with a 3.2 or lower harmonized average of the World Bank's Country Policy and Institutional Assessment rating and the corresponding rating by a regional development bank, or that have had a UN or regional peacebuilding and political mission (for example by the African Union, European Union, or Organization of American States) or peacekeeping mission (for example, by the African Union, European Union, North Atlantic Treaty Organization, or Organization of American States) during the last three years. The group excludes IBRD countries (for which the CPIA scores are not publically disclosed); unless there is the presence of a peace-keeping or political/peacebuilding mission. This definition is pursuant to an agreement between the World Bank and other multilateral development banks at the start of the International Development Association 15 round in 2007. The list of countries and territories with fragile situations is imperfect and used here to reflect a complex concept. The World Bank continues to work with partners and client countries to refine the concept.\",,,F1,,,,,,,,,,,,,,,,,,,,2016\n",
      "FIN,Finland,Finland,Republic of Finland,FI,Euro,\"A simple multiplier is used to convert the national currencies of EMU members to euros. The following irrevocable euro conversion rate was adopted by the EU Council on January 1, 1999: 1 euro = 5.94573 Finnish markka. Please note that historical data before 1999 are not actual euros and are not comparable or suitable for aggregation across countries.\",Europe & Central Asia,High income,FI,Original chained constant price data are rescaled.,2010,Value added at basic prices (VAB),,Euro area,Country uses the 2008 System of National Accounts methodology,,Rolling,BPM6,,Special trade system,Consolidated central government,Special Data Dissemination Standard Plus (SDDS+),2010. Population data compiled from administrative registers.,,\"Income survey (IS), 2015\",Yes,2010,2014,2017\n",
      "FJI,Fiji,Fiji,Republic of Fiji,FJ,Fijian dollar,,East Asia & Pacific,Upper middle income,FJ,2014,,Value added at basic prices (VAB),Blend,,Country uses the 2008 System of National Accounts methodology,,2011,BPM6,Actual,General trade system,Budgetary central government,Enhanced General Data Dissemination System (e-GDDS),2017,,\"Expenditure survey/budget survey (ES/BS), 2013\",Yes,2009,2011,2017\n",
      "FRA,France,France,French Republic,FR,Euro,\"The following irrevocable euro conversion rate was adopted by the EU Council on January 1, 1999: 1 euro = 6.55957 French franc. Please note that historical data before 1999 are not actual euros and are not comparable or suitable for aggregation across countries.\",Europe & Central Asia,High income,FR,Original chained constant price data are rescaled.,2010,Value added at basic prices (VAB),,Euro area,Country uses the 2008 System of National Accounts methodology,,Rolling,BPM6,,Special trade system,Consolidated central government,Special Data Dissemination Standard Plus (SDDS+),2016,,\"Income survey (IS), 2015\",Yes,2010,2014,2017\n",
      "FRO,Faroe Islands,Faroe Islands,Faroe Islands,FO,Danish krone,,Europe & Central Asia,High income,FO,,,Value added at basic prices (VAB),,,Country uses the 1993 System of National Accounts methodology,,,BPM5 (Converted into BPM6 by IMF),,General trade system,,,2011,,,Yes,,,2017\n",
      "FSM,Micronesia,\"Micronesia, Fed. Sts.\",Federated States of Micronesia,FM,U.S. dollar,\"Fiscal year ends on September 30; reporting period for national accounts data: FY. Based on the Pacific and Virgin Islands Training Initiative, national accounts data have been revised.\",East Asia & Pacific,Lower middle income,FM,2004,,Value added at basic prices (VAB),IDA,,Country uses the 1993 System of National Accounts methodology,,2011 (household consumption only).,BPM6,,General trade system,Budgetary central government,Enhanced General Data Dissemination System (e-GDDS),2010,,\"Expenditure survey/budget survey (ES/BS), 2013\",,,,2017\n",
      "GAB,Gabon,Gabon,Gabonese Republic,GA,Central African CFA franc,,Sub-Saharan Africa,Upper middle income,GA,2001,,Value added at basic prices (VAB),IBRD,,Country uses the 1993 System of National Accounts methodology,1993,2011,BPM5 (Converted into BPM6 by IMF),Actual,Special trade system,,Enhanced General Data Dissemination System (e-GDDS),2013,\"Demographic and Health Survey, 2018\",\"Living Standards Measurement Study Survey (LSMS)/Integrated household survey (IHS), 2017\",,,1995,2017\n",
      "GBR,United Kingdom,United Kingdom,United Kingdom of Great Britain and Northern Ireland,GB,Pound sterling,,Europe & Central Asia,High income,GB,Original chained constant price data are rescaled.,2010,Value added at basic prices (VAB),,,Country uses the 2008 System of National Accounts methodology,,Rolling,BPM6,,General trade system,Consolidated central government,Special Data Dissemination Standard (SDDS),2011,,\"Income survey (IS), 2015\",Yes,2010,2013,2017\n",
      "GEO,Georgia,Georgia,Georgia,GE,Georgian lari,\"Includes self-governed areas only, which mostly exclude Abkhazia and South Ossetia, but small areas in Abkhazia and South Ossetia are included before 2008 or 2009 because of the changes in self-governed areas.\",Europe & Central Asia,Upper middle income,GE,Original chained constant price data are rescaled.,2010,Value added at basic prices (VAB),IBRD,,Country uses the 2008 System of National Accounts methodology,1990–95,2011,BPM6,Actual,General trade system,Consolidated central government,Special Data Dissemination Standard (SDDS),2014,\"Multiple Indicator Cluster Survey, 2018\",\"Integrated household survey (IHS), 2017\",Yes,2014,2013,2017\n",
      "GHA,Ghana,Ghana,Republic of Ghana,GH,New Ghanaian cedi,,Sub-Saharan Africa,Lower middle income,GH,2013,,Value added at basic prices (VAB),IDA,HIPC,Country uses the 2008 System of National Accounts methodology,1973–87,2011,BPM6,Actual,General trade system,Consolidated central government,Enhanced General Data Dissemination System (e-GDDS),2010,\"Multiple Indicator Cluster Survey, 2017/18\",\"Living Standards Measurement Study Survey (LSMS), 2017\",,,2003,2017\n",
      "GIB,Gibraltar,Gibraltar,Gibraltar,GI,Gibraltar pound,,Europe & Central Asia,High income,GI,,,,,,,,,,,,,,2012,,,Yes,,,\n",
      "GIN,Guinea,Guinea,Republic of Guinea,GN,Guinean franc,,Sub-Saharan Africa,Low income,GN,Original chained constant price data are rescaled.,2010,Value added at basic prices (VAB),IDA,HIPC,Country uses the 2008 System of National Accounts methodology,,2011,BPM6,Actual,Special trade system,,Enhanced General Data Dissemination System (e-GDDS),2014,\"Demographic and Health Survey, 2018\",\"Core Welfare Indicator Questionnaire Survey (CWIQ), 2012\",,,,2017\n",
      "GMB,The Gambia,\"Gambia, The\",Republic of The Gambia,GM,Gambian dalasi,,Sub-Saharan Africa,Low income,GM,2013,,Value added at basic prices (VAB),IDA,HIPC,Country uses the 2008 System of National Accounts methodology,,2011,BPM5 (Converted into BPM6 by IMF),Actual,General trade system,Consolidated central government,Enhanced General Data Dissemination System (e-GDDS),2013,\"Multiple Indicator Cluster Survey, 2018\",\"Integrated household survey (IHS), 2015\",,2011-2012,2004,2017\n",
      "GNB,Guinea-Bissau,Guinea-Bissau,Republic of Guinea-Bissau,GW,West African CFA franc,,Sub-Saharan Africa,Low income,GW,2005,,Value added at basic prices (VAB),IDA,HIPC,Country uses the 1993 System of National Accounts methodology,,2011,BPM6,Actual,General trade system,,Enhanced General Data Dissemination System (e-GDDS),2009,\"Multiple Indicator Cluster Survey, 2014\",\"Core Welfare Indicator Questionnaire Survey (CWIQ), 2010\",,,,2017\n",
      "GNQ,Equatorial Guinea,Equatorial Guinea,Republic of Equatorial Guinea,GQ,Central African CFA franc,,Sub-Saharan Africa,Upper middle income,GQ,2006,,Value added at basic prices (VAB),IBRD,,Country uses the 1993 System of National Accounts methodology,1965–84,2011,BPM5 (Converted into BPM6 by IMF),,General trade system,Budgetary central government,,2015,\"Demographic and Health Survey, 2011\",\"Priority survey (PS), 2006\",,2015,,2017\n",
      "GRC,Greece,Greece,Hellenic Republic,GR,Euro,\"A simple multiplier is used to convert the national currencies of EMU members to euros. The following irrevocable euro conversion rate was adopted by the EU Council on January 1, 1999: 1 euro = 340.75 Greek drachma. Please note that historical data before 1999 are not actual euros and are not comparable or suitable for aggregation across countries.\",Europe & Central Asia,High income,GR,Original chained constant price data are rescaled.,2010,Value added at basic prices (VAB),,Euro area,Country uses the 2008 System of National Accounts methodology,,Rolling,BPM6,,Special trade system,Consolidated central government,Special Data Dissemination Standard (SDDS),2011,,\"Income survey (IS), 2015\",Yes,2009,2013,2017\n",
      "GRD,Grenada,Grenada,Grenada,GD,East Caribbean dollar,,Latin America & Caribbean,Upper middle income,GD,2006,,Value added at basic prices (VAB),Blend,,Country uses the 1993 System of National Accounts methodology,,2011,BPM6,Actual,Special trade system,Budgetary central government,Enhanced General Data Dissemination System (e-GDDS),2011,\"Reproductive Health Survey, 1985\",,Yes,2012,,2017\n",
      "GRL,Greenland,Greenland,Greenland,GL,Danish krone,,Europe & Central Asia,High income,GL,Original chained constant price data are rescaled.,2010,Value added at basic prices (VAB),,,Country uses the 2008 System of National Accounts methodology,,,,,General trade system,,,2011. Population data compiled from administrative registers.,,,Yes,,,2017\n",
      "GTM,Guatemala,Guatemala,Republic of Guatemala,GT,Guatemalan quetzal,,Latin America & Caribbean,Upper middle income,GT,Original chained constant price data are rescaled.,,Value added at basic prices (VAB),IBRD,,Country uses the 1993 System of National Accounts methodology,,2011,BPM6,Actual,General trade system,Budgetary central government,Enhanced General Data Dissemination System (e-GDDS),2002,\"Demographic and Health Survey, 2014/15\",\"Living Standards Measurement Study Survey (LSMS), 2014\",Yes,,1988,2017\n",
      "GUM,Guam,Guam,Guam,GU,U.S. dollar,,East Asia & Pacific,High income,GU,2009,,Value added at basic prices (VAB),,,Country uses the 1993 System of National Accounts methodology,,2011 (household consumption only).,,,General trade system,,,2010,,,Yes,2007,,2017\n",
      "GUY,Guyana,Guyana,Co-operative Republic of Guyana,GY,Guyana dollar,,Latin America & Caribbean,Upper middle income,GY,2006,,Value added at basic prices (VAB),IDA,HIPC,Country uses the 1993 System of National Accounts methodology,,,BPM6,Actual,Special trade system,,Enhanced General Data Dissemination System (e-GDDS),2012,\"Multiple Indicator Cluster Survey, 2014\",\"Integrated household survey (IHS), 1998\",,,,2017\n",
      "HIC,High income,High income,High income,XD,,\"High income group aggregate. High-income economies are those in which 2017 GNI per capita was $12,055 or more.\",,,XD,,,,,,,,,,,,,,,,,,,,2016\n",
      "HKG,\"Hong Kong SAR, China\",\"Hong Kong SAR, China\",Hong Kong Special Administrative Region of the People's Republic of China,HK,Hong Kong dollar,\"On 1 July 1997 China resumed its exercise of sovereignty over Hong Kong. Unless otherwise noted, data for China do not include data for Hong Kong SAR, China; Macao SAR, China; or Taiwan, China. Agriculture value added includes mining and quarrying.\",East Asia & Pacific,High income,HK,Original chained constant price data are rescaled.,2016,Value added at basic prices (VAB),,,Country uses the 2008 System of National Accounts methodology,,2011,BPM6,,General trade system,,Special Data Dissemination Standard (SDDS),2016,,,Yes,,2014,2017\n",
      "HND,Honduras,Honduras,Republic of Honduras,HN,Honduran lempira,,Latin America & Caribbean,Lower middle income,HN,2000,,Value added at basic prices (VAB),IDA,HIPC,Country uses the 1993 System of National Accounts methodology,1988–89,2011,BPM5 (Converted into BPM6 by IMF),Actual,Special trade system,Consolidated central government,Enhanced General Data Dissemination System (e-GDDS),2013,\"Demographic and Health Survey, 2011/12\",\"Integrated household survey (IHS), 2017\",,,1996,2017\n",
      "HPC,Heavily indebted poor countries (HIPC),Heavily indebted poor countries (HIPC),Heavily indebted poor countries (HIPC),XE,,Heavily indebted poor countries aggregate.,,,XE,,,,,,,,,,,,,,,,,,,,2016\n",
      "HRV,Croatia,Croatia,Republic of Croatia,HR,Croatian kuna,,Europe & Central Asia,High income,HR,Original chained constant price data are rescaled.,2010,Value added at basic prices (VAB),IBRD,,Country uses the 2008 System of National Accounts methodology,,Rolling,BPM6,,Special trade system,Budgetary central government,Special Data Dissemination Standard (SDDS),2011,\"World Health Survey, 2003\",\"Income survey (IS), 2015\",Yes,\"2010. Economic Census, Natural Resources Census, Livestock Census, Livestock and Aquaculture Census or Sample Agricultural Census.\",1996,2017\n",
      "HTI,Haiti,Haiti,Republic of Haiti,HT,Haitian gourde,Fiscal year end: September 30; reporting period for national accounts data: FY.,Latin America & Caribbean,Low income,HT,1986/87,1987/1988,Value added at basic prices (VAB),IDA,HIPC,Country uses the 1968 System of National Accounts methodology,1991,2011,BPM5 (Converted into BPM6 by IMF),Actual,General trade system,,Enhanced General Data Dissemination System (e-GDDS),2003,\"Demographic and Health Survey, 2016/17\",\"Integrated household survey (IHS), 2012\",,2008-2009,,2017\n",
      "HUN,Hungary,Hungary,Hungary,HU,Hungarian forint,,Europe & Central Asia,High income,HU,Original chained constant price data are rescaled.,2010,Value added at basic prices (VAB),,,Country uses the 2008 System of National Accounts methodology,,Rolling,BPM6,,Special trade system,Consolidated central government,Special Data Dissemination Standard (SDDS),2011,\"World Health Survey, 2003\",\"Income survey (IS), 2014\",Yes,2010,2013,2017\n",
      "IBD,IBRD only,IBRD only,IBRD only,XF,,IBRD only group aggregate.,,,XF,,,,,,,,,,,,,,,,,,,,2016\n",
      "IBT,IDA & IBRD total,IDA & IBRD total,IDA & IBRD total,ZT,,\"IDA and IBRD total group aggregate (includes IDA only, IDA blend, and IBRD only).\",,,ZT,,,,,,,,,,,,,,,,,,,,2016\n",
      "IDA,IDA total,IDA total,IDA total,XG,,IDA total group aggregate (includes IDA only and IDA blend).,,,XG,,,,,,,,,,,,,,,,,,,,2016\n",
      "IDB,IDA blend,IDA blend,IDA blend,XH,,IDA blend group aggregate.,,,XH,,,,,,,,,,,,,,,,,,,,2016\n",
      "IDN,Indonesia,Indonesia,Republic of Indonesia,ID,Indonesian rupiah,Fiscal year end: March 31; reporting period for national accounts data: CY. Data for Indonesia include Timor-Leste through 1999 unless otherwise noted.,East Asia & Pacific,Lower middle income,ID,2010,,Value added at basic prices (VAB),IBRD,,Country uses the 2008 System of National Accounts methodology,,2011,BPM6,Actual,General trade system,Consolidated central government,Special Data Dissemination Standard (SDDS),2010,\"Demographic and Health Survey, 2017\",\"Integrated household survey (IHS), 2017\",,2013,2013,2017\n",
      "IDX,IDA only,IDA only,IDA only,XI,,IDA only group aggregate.,,,XI,,,,,,,,,,,,,,,,,,,,2016\n",
      "IMN,Isle of Man,Isle of Man,Isle of Man,IM,Pound sterling,,Europe & Central Asia,High income,IM,Original chained constant price data are rescaled.,2016,Value added at basic prices (VAB),,,Country uses the 2008 System of National Accounts methodology,,,,,,,,2016,,,Yes,,,\n",
      "IND,India,India,Republic of India,IN,Indian rupee,Fiscal year end: March 31; reporting period for national accounts data: FY.,South Asia,Lower middle income,IN,2011,,Value added at basic prices (VAB),IBRD,,Country uses the 2008 System of National Accounts methodology,,2011,BPM6,Actual,General trade system,Consolidated central government,Special Data Dissemination Standard (SDDS),2011,\"Demographic and Health Survey, 2015/16\",\"Integrated household survey (IHS), 2011/12\",,2010-2011,2014,2017\n",
      "IRL,Ireland,Ireland,Ireland,IE,Euro,\"A simple multiplier is used to convert the national currencies of EMU members to euros. The following irrevocable euro conversion rate was adopted by the EU Council on January 1, 1999: 1 euro = 0.787564 Irish pound. Please note that historical data before 1999 are not actual euros and are not comparable or suitable for aggregation across countries.\",Europe & Central Asia,High income,IE,Original chained constant price data are rescaled.,2010,Value added at basic prices (VAB),,Euro area,Country uses the 2008 System of National Accounts methodology,,Rolling,BPM6,,General trade system,Consolidated central government,Special Data Dissemination Standard (SDDS),2016,,\"Income survey (IS), 2015\",Yes,2010,2012,2017\n",
      "IRN,Iran,\"Iran, Islamic Rep.\",Islamic Republic of Iran,IR,Iranian rial,Fiscal year end: March 20; reporting period for national accounts data: FY.,Middle East & North Africa,Upper middle income,IR,2011,,Value added at basic prices (VAB),IBRD,,Country uses the 1993 System of National Accounts methodology,1980–2002,2011,BPM5 (Converted into BPM6 by IMF),Actual,Special trade system,Consolidated central government,Enhanced General Data Dissemination System (e-GDDS),2016,\"Iran’s Multiple Indicator Demographic and Health Survey, 2010\",\"Expenditure survey/budget survey (ES/BS), 2016\",Yes,2014,2014,2017\n",
      "IRQ,Iraq,Iraq,Republic of Iraq,IQ,Iraqi dinar,,Middle East & North Africa,Upper middle income,IQ,2007,,Value added at producer prices (VAP),IBRD,,Country uses the 1968 System of National Accounts methodology,\"1997, 2004\",2011,BPM6,,Special trade system,Budgetary central government,Enhanced General Data Dissemination System (e-GDDS),1997,\"Multiple Indicator Cluster Survey, 2018\",\"Integrated household survey (IHS), 2012\",,2011-2012,2011,2017\n",
      "ISL,Iceland,Iceland,Republic of Iceland,IS,Iceland krona,,Europe & Central Asia,High income,IS,Original chained constant price data are rescaled.,2010,Value added at basic prices (VAB),,,Country uses the 2008 System of National Accounts methodology,,Rolling,BPM6,,Special trade system,Consolidated central government,Special Data Dissemination Standard (SDDS),\"2011. Population data compiled from administrative registers in combination with other sources of data, such as a sample surveys.\",,\"Income survey (IS), 2014\",Yes,2010,2005,2017\n",
      "ISR,Israel,Israel,State of Israel,IL,Israeli new shekel,,Middle East & North Africa,High income,IL,Original chained constant price data are rescaled.,2015,Value added at basic prices (VAB),,,Country uses the 2008 System of National Accounts methodology,,2011,BPM6,,Special trade system,Consolidated central government,Special Data Dissemination Standard (SDDS),\"2009. Population data compiled from administrative registers in combination with other sources of data, such as a sample surveys.\",,\"Expenditure survey/budget survey (ES/BS), 2012\",Yes,,2014,2017\n",
      "ITA,Italy,Italy,Italian Republic,IT,Euro,\"A simple multiplier is used to convert the national currencies of EMU members to euros. The following irrevocable euro conversion rate was adopted by the EU Council on January 1, 1999: 1 euro = 1936.27 Italian lira. Please note that historical data before 1999 are not actual euros and are not comparable or suitable for aggregation across countries.\",Europe & Central Asia,High income,IT,Original chained constant price data are rescaled.,2010,Value added at basic prices (VAB),,Euro area,Country uses the 2008 System of National Accounts methodology,,Rolling,BPM6,,Special trade system,Consolidated central government,Special Data Dissemination Standard Plus (SDDS+),\"2012. Population data compiled from administrative registers in combination with other sources of data, such as a sample surveys.\",,\"Income survey (IS), 2015\",Yes,2010,2014,2017\n",
      "JAM,Jamaica,Jamaica,Jamaica,JM,Jamaican dollar,,Latin America & Caribbean,Upper middle income,JM,2007,,Value added at basic prices (VAB),IBRD,,Country uses the 1993 System of National Accounts methodology,,2011,BPM6,Actual,Special trade system,Budgetary central government,Enhanced General Data Dissemination System (e-GDDS),2011,\"Multiple Indicator Cluster Survey, 2011\",\"Living Standards Measurement Study Survey (LSMS), 2012\",,2007,1996,2017\n",
      "JOR,Jordan,Jordan,Hashemite Kingdom of Jordan,JO,Jordanian dinar,,Middle East & North Africa,Upper middle income,JO,2016,,Value added at basic prices (VAB),IBRD,,Country uses the 1968 System of National Accounts methodology,,2011,BPM6,Actual,Special trade system,Budgetary central government,Special Data Dissemination Standard (SDDS),2015,\"Demographic and Health Survey, 2017/18\",\"Expenditure survey/budget survey (ES/BS), 2010\",,2007,2013,2017\n",
      "JPN,Japan,Japan,Japan,JP,Japanese yen,Fiscal year end: March 31; reporting period for national accounts data: CY.,East Asia & Pacific,High income,JP,Original chained constant price data are rescaled.,2010,Value added at basic prices (VAB),,,Country uses the 2008 System of National Accounts methodology,,2011,BPM6,,General trade system,Consolidated central government,Special Data Dissemination Standard Plus (SDDS+),2015,,\"Integrated household survey (IHS), 2008\",Yes,2010,2012,2017\n",
      "KAZ,Kazakhstan,Kazakhstan,Republic of Kazakhstan,KZ,Kazakh tenge,,Europe & Central Asia,Upper middle income,KZ,Original chained constant price data are rescaled.,2005,Value added at basic prices (VAB),IBRD,,Country uses the 1993 System of National Accounts methodology,1987–95,2011,BPM6,Actual,General trade system,Consolidated central government,Special Data Dissemination Standard (SDDS),2009,\"Multiple Indicator Cluster Survey, 2015\",\"Expenditure survey/budget survey (ES/BS), 2017\",,2006-2007,2013,2017\n",
      "KEN,Kenya,Kenya,Republic of Kenya,KE,Kenyan shilling,Fiscal year end: June 30; reporting period for national accounts data: CY.,Sub-Saharan Africa,Lower middle income,KE,2009,,Value added at basic prices (VAB),Blend,,Country uses the 2008 System of National Accounts methodology,,2011,BPM6,Actual,General trade system,Consolidated central government,Enhanced General Data Dissemination System (e-GDDS),2009,\"Malaria Indicator Survey, 2015\",\"Integrated household survey (IHS), 2015/16\",,,2013,2017\n",
      "KGZ,Kyrgyz Republic,Kyrgyz Republic,Kyrgyz Republic,KG,Kyrgyz som,,Europe & Central Asia,Lower middle income,KG,Original chained constant price data are rescaled.,1995,Value added at basic prices (VAB),IDA,HIPC,Country uses the 1993 System of National Accounts methodology,1990–95,2011,BPM6,Actual,General trade system,Consolidated central government,Special Data Dissemination Standard (SDDS),2009,\"Multiple Indicator Cluster Survey, 2018\",\"Integrated household survey (IHS), 2015\",Yes,,2012,2017\n",
      "KHM,Cambodia,Cambodia,Kingdom of Cambodia,KH,Cambodian riel,,East Asia & Pacific,Lower middle income,KH,2000,,Value added at basic prices (VAB),IDA,,Country uses the 1993 System of National Accounts methodology,,2011,BPM6,Actual,General trade system,Budgetary central government,Enhanced General Data Dissemination System (e-GDDS),2008,\"Demographic and Health Survey, 2014\",\"Integrated household survey (IHS), 2012\",,2013,2000,2017\n",
      "KIR,Kiribati,Kiribati,Republic of Kiribati,KI,Australian dollar,,East Asia & Pacific,Lower middle income,KI,2006,,Value added at basic prices (VAB),IDA,,Country uses the 1993 System of National Accounts methodology,,2011 (household consumption only).,BPM6,,Special trade system,Consolidated central government,Enhanced General Data Dissemination System (e-GDDS),2015,\"Multiple Indicator Cluster Survey, 2018/19\",\"Expenditure survey/budget survey (ES/BS), 2006\",,,,2017\n",
      "KNA,St. Kitts and Nevis,St. Kitts and Nevis,St. Kitts and Nevis,KN,East Caribbean dollar,,Latin America & Caribbean,High income,KN,2006,,Value added at basic prices (VAB),IBRD,,Country uses the 2008 System of National Accounts methodology,,2011,BPM6,,Special trade system,Budgetary central government,Enhanced General Data Dissemination System (e-GDDS),2011,,,Yes,,,2017\n",
      "KOR,Korea,\"Korea, Rep.\",Republic of Korea,KR,Korean won,,East Asia & Pacific,High income,KR,2010,,Value added at basic prices (VAB),,,Country uses the 2008 System of National Accounts methodology,,2011,BPM6,,General trade system,Budgetary central government,Special Data Dissemination Standard (SDDS),2015,,\"Expenditure survey/budget survey (ES/BS), 2012\",Yes,\"2010, 2015\",2014,2017\n",
      "KWT,Kuwait,Kuwait,State of Kuwait,KW,Kuwaiti dinar,,Middle East & North Africa,High income,KW,2010,,Value added at basic prices (VAB),,,Country uses the 1993 System of National Accounts methodology,,2011,BPM6,,Special trade system,Consolidated central government,Enhanced General Data Dissemination System (e-GDDS),2011,\"Family Health Survey, 1996\",,Yes,,2013,2017\n",
      "LAC,Latin America & Caribbean (excluding high income),Latin America & Caribbean (excluding high income),Latin America & Caribbean (excluding high income),XJ,,,,,XJ,,,,,,,,,,,,,,,,,,,,2016\n",
      "LAO,Lao PDR,Lao PDR,Lao People's Democratic Republic,LA,Lao kip,,East Asia & Pacific,Lower middle income,LA,2012,,Value added at basic prices (VAB),IDA,,Country uses the 2008 System of National Accounts methodology,,2011,BPM6,Actual,Special trade system,Budgetary central government,Enhanced General Data Dissemination System (e-GDDS),2015,\"Multiple Indicator Cluster Survey, 2017\",\"Expenditure survey/budget survey (ES/BS), 2012\",,2010-2011,1999,2016\n",
      "LBN,Lebanon,Lebanon,Lebanese Republic,LB,Lebanese pound,,Middle East & North Africa,Upper middle income,LB,2010,,Value added at basic prices (VAB),IBRD,,Country uses the 2008 System of National Accounts methodology,,2011,BPM5 (Converted into BPM6 by IMF),Actual,Special trade system,Budgetary central government,Enhanced General Data Dissemination System (e-GDDS),1943,\"Family Health Survey, 2004\",\"Expenditure survey/budget survey (ES/BS), 2011/12\",Yes,2010,2007,2017\n",
      "LBR,Liberia,Liberia,Republic of Liberia,LR,U.S. dollar,Pre-2000 data will be revised further for consistency and quality purpose.,Sub-Saharan Africa,Low income,LR,1992,,Value added at producer prices (VAP),IDA,HIPC,Country uses the 2008 System of National Accounts methodology,,2011,BPM6,Actual,Special trade system,Consolidated central government,Enhanced General Data Dissemination System (e-GDDS),2008,\"Malaria Indicator Survey, 2016\",\"Expenditure survey/budget survey (ES/BS), 2014\",,,,2016\n",
      "LBY,Libya,Libya,Socialist People's Libyan Arab Jamahiriya,LY,Libyan dinar,,Middle East & North Africa,Upper middle income,LY,2003,,Value added at basic prices (VAB),IBRD,,Country uses the 1993 System of National Accounts methodology,1986,,BPM5 (Converted into BPM6 by IMF),,General trade system,,Enhanced General Data Dissemination System (e-GDDS),2006,\"Family Health Survey, 2007\",,,,1980,2017\n",
      "LCA,St. Lucia,St. Lucia,St. Lucia,LC,East Caribbean dollar,,Latin America & Caribbean,Upper middle income,LC,2006,,Value added at basic prices (VAB),Blend,,Country uses the 2008 System of National Accounts methodology,,2011,BPM6,Actual,General trade system,Budgetary central government,Enhanced General Data Dissemination System (e-GDDS),2010,\"Multiple Indicator Cluster Survey, 2012\",\"Expenditure survey/budget survey (ES/BS), 2016\",Yes,2007,1997,2017\n",
      "LCN,Latin America & Caribbean,Latin America & Caribbean,Latin America & Caribbean,ZJ,,,,,ZJ,,,,,,,,,,,,,,,,,,,,2016\n",
      "LDC,Least developed countries: UN classification,Least developed countries: UN classification,Least developed countries: UN classification,XL,,,,,XL,,,,,,,,,,,,,,,,,,,,2016\n",
      "LIC,Low income,Low income,Low income,XM,,,,,XM,,,,,,,,,,,,,,,,,,,,2016\n",
      "LIE,Liechtenstein,Liechtenstein,Principality of Liechtenstein,LI,Swiss franc,,Europe & Central Asia,High income,LI,1998,,Value added at basic prices (VAB),,,,,,,,Special trade system,,,\"2015. Population data compiled from administrative registers in combination with other sources of data, such as a sample surveys.\",,,Yes,,,\n",
      "LKA,Sri Lanka,Sri Lanka,Democratic Socialist Republic of Sri Lanka,LK,Sri Lankan rupee,,South Asia,Upper middle income,LK,2010,,Value added at basic prices (VAB),IBRD,,Country uses the 2008 System of National Accounts methodology,,2011,BPM6,Actual,General trade system,Budgetary central government,Special Data Dissemination Standard (SDDS),2012,\"Demographic and Health Survey, 2006/07\",\"Expenditure survey/budget survey (ES/BS), 2016\",Yes,2013-2014,2012,2017\n",
      "LMC,Lower middle income,Lower middle income,Lower middle income,XN,,,,,XN,,,,,,,,,,,,,,,,,,,,2016\n",
      "LMY,Low & middle income,Low & middle income,Low & middle income,XO,,,,,XO,,,,,,,,,,,,,,,,,,,,2016\n",
      "LSO,Lesotho,Lesotho,Kingdom of Lesotho,LS,Lesotho loti,Fiscal year end: March 31; reporting period for national accounts data: CY.,Sub-Saharan Africa,Lower middle income,LS,2012,,Value added at basic prices (VAB),IDA,,Country uses the 1993 System of National Accounts methodology,,2011,BPM6,Actual,General trade system,Budgetary central government,Enhanced General Data Dissemination System (e-GDDS),2016,\"Multiple Indicator Cluster Survey, 2018\",\"Expenditure survey/budget survey (ES/BS), 2010\",,2010,1985,2017\n",
      "LTE,Late-demographic dividend,Late-demographic dividend,Late-demographic dividend,V3,,,,,V3,,,,,,,,,,,,,,,,,,,,2016\n",
      "LTU,Lithuania,Lithuania,Republic of Lithuania,LT,Euro,\"A simple multiplier is used to convert the national currencies of EMU members to euros. The following irrevocable euro conversion rate entered into force on January 1, 2015: 1 euro = 3.45280 Lithuanian litas. Please note that historical data are not actual euros and are not comparable or suitable for aggregation across countries. Based on data from EUROSTAT, the new reference year is 2010.\",Europe & Central Asia,High income,LT,Original chained constant price data are rescaled.,2010,Value added at basic prices (VAB),,Euro area,Country uses the 2008 System of National Accounts methodology,1990–95,Rolling,BPM6,,Special trade system,Consolidated central government,Special Data Dissemination Standard Plus (SDDS+),\"2011. Population data compiled from administrative registers in combination with other sources of data, such as a sample surveys.\",,\"Income survey (IS), 2015\",Yes,2010,2014,2017\n",
      "LUX,Luxembourg,Luxembourg,Grand Duchy of Luxembourg,LU,Euro,\"A simple multiplier is used to convert the national currencies of EMU members to euros. The following irrevocable euro conversion rate was adopted by the EU Council on January 1, 1999: 1 euro = 40.3399 Luxembourg franc. Please note that historical data before 1999 are not actual euros and are not comparable or suitable for aggregation across countries.\",Europe & Central Asia,High income,LU,Original chained constant price data are rescaled.,2010,Value added at basic prices (VAB),,Euro area,Country uses the 2008 System of National Accounts methodology,,Rolling,BPM6,,Special trade system,Consolidated central government,Special Data Dissemination Standard (SDDS),2011,,\"Income survey (IS), 2015\",Yes,2010,2013,2017\n",
      "LVA,Latvia,Latvia,Republic of Latvia,LV,Euro,\"A simple multiplier is used to convert the national currencies of EMU members to euros. The following irrevocable euro conversion rate entered into force on January 1, 2014: 1 euro = 0.702804 Latvian lats. Please note that historical data are not actual euros and are not comparable or suitable for aggregation across countries. Based on data from EUROSTAT, the new reference year is 2010.\",Europe & Central Asia,High income,LV,Original chained constant price data are rescaled.,2010,Value added at basic prices (VAB),,Euro area,Country uses the 2008 System of National Accounts methodology,1987–95,Rolling,BPM6,,Special trade system,Consolidated central government,Special Data Dissemination Standard Plus (SDDS+),\"2011. Population data compiled from administrative registers in combination with other sources of data, such as a sample surveys.\",\"World Health Survey, 2003\",\"Income survey (IS), 2015\",Yes,2010,2013,2017\n",
      "MAC,\"Macao SAR, China\",\"Macao SAR, China\",Macao Special Administrative Region of the People's Republic of China,MO,Macao pataca,\"On 20 December 1999 China resumed its exercise of sovereignty over Macao. Unless otherwise noted, data for China do not include data for Hong Kong SAR, China; Macao SAR, China; or Taiwan, China.\",East Asia & Pacific,High income,MO,Original chained constant price data are rescaled.,2016,Value added at producer prices (VAP),,,Country uses the 2008 System of National Accounts methodology,,2011,BPM6,,General trade system,Consolidated central government,Enhanced General Data Dissemination System (e-GDDS),2016,,,Yes,,2013,2017\n",
      "MAF,St. Martin (French part),St. Martin (French part),St. Martin (French part),MF,Euro,,Latin America & Caribbean,High income,MF,,,,,,,,,,,,,,2015,,,,,,2015\n",
      "MAR,Morocco,Morocco,Kingdom of Morocco,MA,Moroccan dirham,,Middle East & North Africa,Lower middle income,MA,2007,,Value added at basic prices (VAB),IBRD,,Country uses the 2008 System of National Accounts methodology,,2011,BPM6,Actual,Special trade system,Budgetary central government,Special Data Dissemination Standard (SDDS),2014,\"Morocco National Survey on Population and Family Health, 2011\",\"Expenditure survey/budget survey (ES/BS), 2013\",,,2013,2017\n",
      "MCO,Monaco,Monaco,Principality of Monaco,MC,Euro,,Europe & Central Asia,High income,MC,2010,,,,,,,,,,Special trade system,,,2016,,,Yes,,,\n",
      "MDA,Moldova,Moldova,Republic of Moldova,MD,Moldovan leu,\"Excluding Transnistria. For 1950-94, World Bank estimates using UN World Population Prospects' growth rates of whole Moldova.\",Europe & Central Asia,Lower middle income,MD,Original chained constant price data are rescaled.,2010,Value added at basic prices (VAB),Blend,,Country uses the 2008 System of National Accounts methodology,1990–95,2011,BPM6,Actual,General trade system,Consolidated central government,Special Data Dissemination Standard (SDDS),2014,\"Multiple Indicator Cluster Survey, 2012\",\"Expenditure survey/budget survey (ES/BS), 2017\",Yes,2011,2012,2017\n",
      "MDG,Madagascar,Madagascar,Republic of Madagascar,MG,Malagasy ariary,,Sub-Saharan Africa,Low income,MG,2007,,Value added at basic prices (VAB),IDA,HIPC,Country uses the 1993 System of National Accounts methodology,,2011,BPM6,Actual,General trade system,Budgetary central government,Enhanced General Data Dissemination System (e-GDDS),2018,\"Multiple Indicator Cluster Survey, 2018\",\"Priority survey (PS), 2012\",,,2006,2017\n",
      "MDV,Maldives,Maldives,Republic of Maldives,MV,Maldivian rufiyaa,,South Asia,Upper middle income,MV,2014,,Value added at basic prices (VAB),IDA,,Country uses the 1993 System of National Accounts methodology,,2011,BPM6,Actual,General trade system,Consolidated central government,Enhanced General Data Dissemination System (e-GDDS),2014,\"Demographic and Health Survey, 2016/17\",\"Integrated household survey (IHS), 2009/10\",Yes,,,2017\n",
      "MEA,Middle East & North Africa,Middle East & North Africa,Middle East & North Africa,ZQ,,Middle East and North Africa regional aggregate (includes all income levels).,,,ZQ,,,,,,,,,,,,,,,,,,,,2016\n",
      "MEX,Mexico,Mexico,United Mexican States,MX,Mexican peso,,Latin America & Caribbean,Upper middle income,MX,2013,,Value added at basic prices (VAB),IBRD,,Country uses the 2008 System of National Accounts methodology,,2011,BPM6,Actual,General trade system,Consolidated central government,Special Data Dissemination Standard (SDDS),2010,\"Multiple Indicator Cluster Survey, 2015\",\"Integrated household survey (IHS), 2016\",Yes,2007,2013,2017\n",
      "MHL,Marshall Islands,Marshall Islands,Republic of the Marshall Islands,MH,U.S. dollar,Fiscal year ends on September 30; reporting period for national accounts data: FY.,East Asia & Pacific,Upper middle income,MH,2015,,Value added at basic prices (VAB),IDA,,Country uses the 1993 System of National Accounts methodology,,2011 (household consumption only).,BPM6,,General trade system,Budgetary central government,Enhanced General Data Dissemination System (e-GDDS),2011,\"Republic of the Marshall Islands Demographic and Health Survey, 2007\",,,,,2017\n",
      "MIC,Middle income,Middle income,Middle income,XP,,\"Middle income group aggregate. Middle-income economies are those in which 2017 GNI per capita was between $996 and $12,055.\",,,XP,,,,,,,,,,,,,,,,,,,,2016\n",
      "MKD,North Macedonia,North Macedonia,Republic of North Macedonia,MK,Macedonian denar,,Europe & Central Asia,Upper middle income,MK,Original chained constant price data are rescaled.,2005,Value added at basic prices (VAB),IBRD,,,,Rolling,BPM6,Actual,Special trade system,Consolidated central government,Special Data Dissemination Standard (SDDS),2002,\"Multiple Indicator Cluster Survey, 2011\",\"Income survey (IS), 2017\",Yes,2007,2010,2014\n",
      "MLI,Mali,Mali,Republic of Mali,ML,West African CFA franc,,Sub-Saharan Africa,Low income,ML,1999,,Value added at basic prices (VAB),IDA,HIPC,Country uses the 1993 System of National Accounts methodology,,2011,BPM6,Estimate,General trade system,Budgetary central government,Enhanced General Data Dissemination System (e-GDDS),2009,\"Demographic and Health Survey, 2018\",\"Integrated household survey (IHS), 2009/10\",,,,2017\n",
      "MLT,Malta,Malta,Republic of Malta,MT,Euro,\"A simple multiplier is used to convert the national currencies of EMU members to euros. The following irrevocable euro conversion rate entered into force on January 1, 2008: 1 euro = 0.4293 Maltese lira. Please note that historical data are not actual euros and are not comparable or suitable for aggregation across countries. National accounts data source from 1995 to 2015 is Eurostat; prior to 1995 is UN. The new reference year is 2010.\",Middle East & North Africa,High income,MT,Original chained constant price data are rescaled.,,Value added at basic prices (VAB),,Euro area,Country uses the 2008 System of National Accounts methodology,,Rolling,BPM6,,General trade system,Consolidated central government,Special Data Dissemination Standard (SDDS),2011,,\"Income survey (IS), 2015\",Yes,2010,2009,2017\n",
      "MMR,Myanmar,Myanmar,Republic of the Union of Myanmar,MM,Myanmar kyat,Fiscal year end: March 31; reporting period for national accounts data: FY.,East Asia & Pacific,Lower middle income,MM,2010,,Value added at producer prices (VAP),IDA,,Country uses the 1968 System of National Accounts methodology,,2011,BPM6,Actual,General trade system,Consolidated central government,Enhanced General Data Dissemination System (e-GDDS),2014,\"Demographic and Health Survey, 2015/16\",\"Integrated household survey (IHS), 2015\",,2010,,2017\n",
      "MNA,Middle East & North Africa (excluding high income),Middle East & North Africa (excluding high income),Middle East & North Africa (excluding high income),XQ,,,,,XQ,,,,,,,,,,,,,,,,,,,,2016\n",
      "MNE,Montenegro,Montenegro,Montenegro,ME,Euro,\"Montenegro declared independence from Serbia and Montenegro on June 3, 2006. Where available, data for each country are shown separately. However, for Serbia, some indicators continue to include data for Montenegro through 2005.\",Europe & Central Asia,Upper middle income,ME,Original chained constant price data are rescaled.,2000,Value added at basic prices (VAB),IBRD,,Country uses the 2008 System of National Accounts methodology,,Rolling,BPM6,Actual,Special trade system,,Enhanced General Data Dissemination System (e-GDDS),2011,\"Demographic and Health Survey, 2018\",\"Expenditure survey/budget survey (ES/BS), 2014\",Yes,2010,,2017\n",
      "MNG,Mongolia,Mongolia,Mongolia,MN,Mongolian tugrik,,East Asia & Pacific,Lower middle income,MN,2010,,Value added at basic prices (VAB),Blend,,Country uses the 2008 System of National Accounts methodology,,2011,BPM6,Actual,General trade system,Consolidated central government,Enhanced General Data Dissemination System (e-GDDS),2010,\"Demographic and Health Survey, 2018\",\"Integrated household survey (IHS), 2016\",Yes,2011,2011,2017\n",
      "MNP,Northern Mariana Islands,Northern Mariana Islands,Commonwealth of the Northern Mariana Islands,MP,U.S. dollar,,East Asia & Pacific,High income,MP,2009,,,,,,,2011 (household consumption only).,,,,,,2010,,,,2007,,2017\n",
      "MOZ,Mozambique,Mozambique,Republic of Mozambique,MZ,New Mozambican metical,,Sub-Saharan Africa,Low income,MZ,2014,,Value added at basic prices (VAB),IDA,HIPC,Country uses the 2008 System of National Accounts methodology,1992–95,2011,BPM6,Actual,General trade system,Budgetary central government,Enhanced General Data Dissemination System (e-GDDS),2017,\"Malaria Indicator Survey, 2018\",\"Expenditure survey/budget survey (ES/BS), 2014\",,2009-2010,1973,2017\n",
      "MRT,Mauritania,Mauritania,Islamic Republic of Mauritania,MR,Mauritanian ouguiya,National account data were adjusted to reflect the new banknote (1 new ouguiya = 10 old ouguiya),Sub-Saharan Africa,Lower middle income,MR,2004,,Value added at basic prices (VAB),IDA,HIPC,Country uses the 1993 System of National Accounts methodology,,2011,BPM6,Actual,General trade system,,Enhanced General Data Dissemination System (e-GDDS),2013,\"Multiple Indicator Cluster Survey, 2015\",\"Integrated household survey (IHS), 2014\",,,,2017\n",
      "MUS,Mauritius,Mauritius,Republic of Mauritius,MU,Mauritian rupee,,Sub-Saharan Africa,Upper middle income,MU,2006,,Value added at basic prices (VAB),IBRD,,Country uses the 2008 System of National Accounts methodology,,2011,BPM6,Actual,General trade system,Consolidated central government,Special Data Dissemination Standard (SDDS),2011,\"World Health Survey, 2003\",\"Integrated household survey (IHS), 2012\",Yes,2014,2012,2017\n",
      "MWI,Malawi,Malawi,Republic of Malawi,MW,Malawi kwacha,,Sub-Saharan Africa,Low income,MW,2010,,Value added at basic prices (VAB),IDA,HIPC,Country uses the 2008 System of National Accounts methodology,,2011,BPM6,Actual,General trade system,Budgetary central government,Enhanced General Data Dissemination System (e-GDDS),2018,\"Malaria Indicator Survey, 2017\",\"Integrated household survey (IHS), 2016\",,2006-2007,2012,2017\n",
      "MYS,Malaysia,Malaysia,Malaysia,MY,Malaysian ringgit,,East Asia & Pacific,Upper middle income,MY,2015,,Value added at producer prices (VAP),IBRD,,Country uses the 2008 System of National Accounts methodology,,2011,BPM6,,General trade system,Budgetary central government,Special Data Dissemination Standard (SDDS),2010,\"World Health Survey, 2003\",\"Income survey (IS), 2015\",Yes,\"2015. Economic Census, Natural Resources Census, Livestock Census, Livestock and Aquaculture Census or Sample Agricultural Census.\",2012,2017\n",
      "NAC,North America,North America,North America,XU,,North America regional aggregate. There are no economies in North America classified as low or middle income.,,,XU,,,,,,,,,,,,,,,,,,,,2016\n",
      "NAM,Namibia,Namibia,Republic of Namibia,NA,Namibian dollar,Fiscal year end: March 31; reporting period for national accounts data: CY.,Sub-Saharan Africa,Upper middle income,NA,2010,,Value added at basic prices (VAB),IBRD,,Country uses the 1993 System of National Accounts methodology,,2011,BPM6,,General trade system,Budgetary central government,Enhanced General Data Dissemination System (e-GDDS),2011,\"Demographic and Health Survey, 2013\",\"Expenditure survey/budget survey (ES/BS), 2015\",,2013-2014,2013,2017\n",
      "NCL,New Caledonia,New Caledonia,New Caledonia,NC,CFP franc,,East Asia & Pacific,High income,NC,1990,,Value added at producer prices (VAP),,,Country uses the 1993 System of National Accounts methodology,,2011 (household consumption only).,BPM6,,General trade system,,,2014,,,Yes,,,2017\n",
      "NER,Niger,Niger,Republic of Niger,NE,West African CFA franc,,Sub-Saharan Africa,Low income,NE,2006,,Value added at basic prices (VAB),IDA,HIPC,Country uses the 1993 System of National Accounts methodology,1993,2011,BPM6,Actual,General trade system,,Enhanced General Data Dissemination System (e-GDDS),2012,\"Demographic and Health Survey, 2017\",\"Core Welfare Indicator Questionnaire Survey (CWIQ)/Priority survey (PS), 2014\",,2004-2008,2002,2017\n",
      "NGA,Nigeria,Nigeria,Federal Republic of Nigeria,NG,Nigerian naira,,Sub-Saharan Africa,Lower middle income,NG,2010,,Value added at basic prices (VAB),Blend,,Country uses the 2008 System of National Accounts methodology,1971–98,2011,BPM6,Actual,General trade system,Budgetary central government,Enhanced General Data Dissemination System (e-GDDS),2006,\"Demographic and Health Survey, 2018\",\"Integrated household survey (IHS), 2009/10\",,\"2007. Economic Census, Natural Resources Census, Livestock Census, Livestock and Aquaculture Census or Sample Agricultural Census.\",1996,2017\n",
      "NIC,Nicaragua,Nicaragua,Republic of Nicaragua,NI,Nicaraguan gold cordoba,,Latin America & Caribbean,Lower middle income,NI,Original chained constant price data are rescaled.,2006,Value added at basic prices (VAB),IDA,HIPC,Country uses the 2008 System of National Accounts methodology,1965–95,2011,BPM6,Actual,General trade system,Budgetary central government,Enhanced General Data Dissemination System (e-GDDS),2005,\"Reproductive Health Survey, 2006/2007\",\"Living Standards Measurement Study Survey (LSMS), 2016\",,2011,1985,2017\n",
      "NLD,Netherlands,Netherlands,Kingdom of the Netherlands,NL,Euro,\"A simple multiplier is used to convert the national currencies of EMU members to euros. The following irrevocable euro conversion rate was adopted by the EU Council on January 1, 1999: 1 euro = 2.20371 Netherlands guilder. Please note that historical data before 1999 are not actual euros and are not comparable or suitable for aggregation across countries.\",Europe & Central Asia,High income,NL,Original chained constant price data are rescaled.,2010,Value added at basic prices (VAB),,Euro area,Country uses the 2008 System of National Accounts methodology,,Rolling,BPM6,,Special trade system,Consolidated central government,Special Data Dissemination Standard Plus (SDDS+),\"2011. Population data compiled from administrative registers in combination with other sources of data, such as a sample surveys.\",,\"Income survey (IS), 2015\",Yes,2010,2014,2017\n",
      "NOR,Norway,Norway,Kingdom of Norway,NO,Norwegian krone,,Europe & Central Asia,High income,NO,Original chained constant price data are rescaled.,2010,Value added at basic prices (VAB),,,Country uses the 2008 System of National Accounts methodology,,Rolling,BPM6,,General trade system,Consolidated central government,Special Data Dissemination Standard (SDDS),2011. Population data compiled from administrative registers.,,\"Income survey (IS), 2014\",Yes,2010,2014,2017\n",
      "NPL,Nepal,Nepal,Nepal,NP,Nepalese rupee,Fiscal year end: July 14; reporting period for national accounts data: FY.,South Asia,Low income,NP,2000/01,,Value added at basic prices (VAB),IDA,,Country uses the 1993 System of National Accounts methodology,,2011,BPM5 (Converted into BPM6 by IMF),Actual,General trade system,Budgetary central government,Enhanced General Data Dissemination System (e-GDDS),2011,\"Demographic and Health Survey, 2016\",\"Living Standards Measurement Study Survey (LSMS), 2010/11\",,2011-2012,2011,2017\n",
      "NRU,Nauru,Nauru,Republic of Nauru,NR,Australian dollar,Fiscal year end: June 30; reporting period for national accounts data: FY.,East Asia & Pacific,Upper middle income,NR,2007,,Value added at basic prices (VAB),,,Country uses the 1993 System of National Accounts methodology,,,,,,,,2011,\"Nauru Demographic and Health Survey, 2007\",,Yes,,,\n",
      "NZL,New Zealand,New Zealand,New Zealand,NZ,New Zealand dollar,Fiscal year end: March 31; reporting period for national accounts data: CY.,East Asia & Pacific,High income,NZ,Original chained constant price data are rescaled.,2010,Value added at basic prices (VAB),,,Country uses the 2008 System of National Accounts methodology,,2011,BPM6,,General trade system,,,2018,,,Yes,2012,2012,2017\n",
      "OED,OECD members,OECD members,OECD members,OE,,Aggregations include Lithuania.,,,OE,,,,,,,,,,,,,,,,,,,,2016\n",
      "OMN,Oman,Oman,Sultanate of Oman,OM,Rial Omani,,Middle East & North Africa,High income,OM,2010,,Value added at basic prices (VAB),,,Country uses the 1993 System of National Accounts methodology,,2011,BPM5 (Converted into BPM6 by IMF),,General trade system,Budgetary central government,Enhanced General Data Dissemination System (e-GDDS),2010,\"Multiple Indicator Cluster Survey, 2014\",,,2012-2013,2014,2017\n",
      "OSS,Other small states,Other small states,Other small states,S4,,,,,S4,,,,,,,,,,,,,,,,,,,,2016\n",
      "PAK,Pakistan,Pakistan,Islamic Republic of Pakistan,PK,Pakistani rupee,Fiscal year end: June 30; reporting period for national accounts data: FY.,South Asia,Lower middle income,PK,2005/06,,Value added at basic prices (VAB),Blend,,Country uses the 2008 System of National Accounts methodology,,2011,BPM6,Actual,General trade system,Budgetary central government,Enhanced General Data Dissemination System (e-GDDS),2017,\"Demographic and Health Survey, 2017/18\",\"Integrated household survey (IHS), 2014/15\",,2010,2006,2017\n",
      "PAN,Panama,Panama,Republic of Panama,PA,Panamanian balboa,,Latin America & Caribbean,High income,PA,Original chained constant price data are rescaled.,2007,Value added at basic prices (VAB),IBRD,,Country uses the 1993 System of National Accounts methodology,,2011,BPM6,,Special trade system,,Enhanced General Data Dissemination System (e-GDDS),2010,\"Multiple Indicator Cluster Survey, 2013\",\"Integrated household survey (IHS), 2016\",Yes,2011,2001,2017\n",
      "PER,Peru,Peru,Republic of Peru,PE,Peruvian new sol,,Latin America & Caribbean,Upper middle income,PE,2007,,Value added at basic prices (VAB),IBRD,,Country uses the 2008 System of National Accounts methodology,1985–90,2011,BPM5 (Converted into BPM6 by IMF),Actual,Special trade system,Consolidated central government,Special Data Dissemination Standard (SDDS),2017,\"Continuous Demographic and Health Survey, 2014\",\"Integrated household survey (IHS), 2017\",,2012,2011,2017\n",
      "PHL,Philippines,Philippines,Republic of the Philippines,PH,Philippine peso,,East Asia & Pacific,Lower middle income,PH,2000,,Value added at producer prices (VAP),IBRD,,Country uses the 2008 System of National Accounts methodology,,2011,BPM6,Actual,General trade system,Budgetary central government,Special Data Dissemination Standard (SDDS),2015,\"Demographic and Health Survey, 2017\",\"Expenditure survey/budget survey (ES/BS), 2015\",Yes,2012,2012,2017\n",
      "PLW,Palau,Palau,Republic of Palau,PW,U.S. dollar,Fiscal year ends on September 30; reporting period for national accounts data: FY.,East Asia & Pacific,High income,PW,2015,,Value added at basic prices (VAB),IBRD,,Country uses the 1993 System of National Accounts methodology,,2011 (household consumption only).,BPM6,,General trade system,Budgetary central government,Enhanced General Data Dissemination System (e-GDDS),2015,,\"Expenditure survey/budget survey (ES/BS), 2006\",Yes,,,2017\n",
      "PNG,Papua New Guinea,Papua New Guinea,The Independent State of Papua New Guinea,PG,Papua New Guinea kina,,East Asia & Pacific,Lower middle income,PG,2013,,Value added at basic prices (VAB),Blend,,Country uses the 1993 System of National Accounts methodology,1989,2011 (household consumption only).,BPM5 (Converted into BPM6 by IMF),Actual,General trade system,Budgetary central government,Enhanced General Data Dissemination System (e-GDDS),2011,\"Demographic and Health Survey, 2016/17\",\"Integrated household survey (IHS), 2009/10\",,,1987,2017\n",
      "POL,Poland,Poland,Republic of Poland,PL,Polish zloty,,Europe & Central Asia,High income,PL,Original chained constant price data are rescaled.,2010,Value added at basic prices (VAB),IBRD,,Country uses the 2008 System of National Accounts methodology,,Rolling,BPM6,,Special trade system,Consolidated central government,Special Data Dissemination Standard (SDDS),\"2011. Population data compiled from administrative registers in combination with other sources of data, such as a sample surveys.\",,\"Expenditure survey/budget survey (ES/BS), 2016\",Yes,2010,2013,2017\n",
      "PRE,Pre-demographic dividend,Pre-demographic dividend,Pre-demographic dividend,V1,,\"Pre-dividend countries are mostly low-income countries, lagging in key human development indicators and with current fertility levels above four births per woman. They face very rapid population growth.\",,,V1,,,,,,,,,,,,,,,,,,,,2016\n",
      "PRI,Puerto Rico,Puerto Rico,Puerto Rico,PR,U.S. dollar,Fiscal year end: June 30; reporting period for national accounts data: FY.,Latin America & Caribbean,High income,PR,1954,,Value added at producer prices (VAP),,,Country uses the 1968 System of National Accounts methodology,,,,,General trade system,,,2010,\"Reproductive Health Survey, 1995/96\",,Yes,2012,2006,\n",
      "PRK,Dem. People's Rep. Korea,\"Korea, Dem. People's Rep.\",Democratic People's Republic of Korea,KP,Democratic People's Republic of Korean won,,East Asia & Pacific,Low income,KP,,,,,,,,,,,,,,2008,\"Multiple Indicator Cluster Survey, 2017\",,,,,2016\n",
      "PRT,Portugal,Portugal,Portuguese Republic,PT,Euro,\"A simple multiplier is used to convert the national currencies of EMU members to euros. The following irrevocable euro conversion rate was adopted by the EU Council on January 1, 1999: 1 euro = 200.482 Portuguese escudo. Please note that historical data before 1999 are not actual euros and are not comparable or suitable for aggregation across countries.\",Europe & Central Asia,High income,PT,Original chained constant price data are rescaled.,2010,Value added at basic prices (VAB),,Euro area,Country uses the 2008 System of National Accounts methodology,,Rolling,BPM6,,Special trade system,Consolidated central government,Special Data Dissemination Standard Plus (SDDS+),2011,,,Yes,2009,2014,2017\n",
      "PRY,Paraguay,Paraguay,Republic of Paraguay,PY,Paraguayan guarani,,Latin America & Caribbean,Upper middle income,PY,2014,,Value added at basic prices (VAB),IBRD,,Country uses the 2008 System of National Accounts methodology,,2011,BPM5 (Converted into BPM6 by IMF),Actual,General trade system,Consolidated central government,Enhanced General Data Dissemination System (e-GDDS),2012,\"Multiple Indicator Cluster Survey, 2016\",\"Integrated household survey (IHS), 2017\",,2008,2010,2017\n",
      "PSE,West Bank and Gaza,West Bank and Gaza,West Bank and Gaza,PS,Israeli new shekel,,Middle East & North Africa,Lower middle income,GZ,2015,,,,,,,2011,BPM6,,General trade system,Consolidated central government,Special Data Dissemination Standard (SDDS),2017,\"Multiple Indicator Cluster Survey, 2014\",\"Expenditure survey/budget survey (ES/BS), 2016/17\",,2010,2013,\n",
      "PSS,Pacific island small states,Pacific island small states,Pacific island small states,S2,,Pacific island small states aggregate.,,,S2,,,,,,,,,,,,,,,,,,,,2016\n",
      "PST,Post-demographic dividend,Post-demographic dividend,Post-demographic dividend,V4,,Post-dividend countries are mostly high-income countries where fertility has transitioned below replacement levels.,,,V4,,,,,,,,,,,,,,,,,,,,2016\n",
      "PYF,French Polynesia,French Polynesia,French Polynesia,PF,CFP franc,,East Asia & Pacific,High income,PF,1990,,Value added at basic prices (VAB),,,Country uses the 1993 System of National Accounts methodology,,2011 (household consumption only).,BPM6,,Special trade system,,,2017,,,Yes,,,2017\n",
      "QAT,Qatar,Qatar,State of Qatar,QA,Qatari riyal,,Middle East & North Africa,High income,QA,2013,,Value added at producer prices (VAP),,,Country uses the 1993 System of National Accounts methodology,,2011,BPM5 (Converted into BPM6 by IMF),,Special trade system,Budgetary central government,Enhanced General Data Dissemination System (e-GDDS),2015,\"Multiple Indicator Cluster Survey, 2012\",,Yes,,2013,2017\n",
      "ROU,Romania,Romania,Romania,RO,New Romanian leu,,Europe & Central Asia,Upper middle income,RO,Original chained constant price data are rescaled.,2005,Value added at basic prices (VAB),IBRD,,Country uses the 2008 System of National Accounts methodology,\"1987–89, 1992\",Rolling,BPM6,Actual,Special trade system,Consolidated central government,Special Data Dissemination Standard (SDDS),2011,\"Romania Reproductive Health Survey, 2004\",\"Income survey (IS), 2016\",Yes,2010,2013,2017\n",
      "RUS,Russia,Russian Federation,Russian Federation,RU,Russian ruble,,Europe & Central Asia,Upper middle income,RU,Original chained constant price data are rescaled.,2016,Value added at basic prices (VAB),IBRD,,Country uses the 2008 System of National Accounts methodology,1987–95,2011,BPM6,Preliminary,General trade system,Consolidated central government,Special Data Dissemination Standard (SDDS),2010,\"Russian Federation Reproductive Health Survey, 2011\",\"Expenditure survey/budget survey (ES/BS), 2017\",Yes,2016,2014,2017\n",
      "RWA,Rwanda,Rwanda,Republic of Rwanda,RW,Rwandan franc,,Sub-Saharan Africa,Low income,RW,2014,,Value added at basic prices (VAB),IDA,HIPC,Country uses the 1993 System of National Accounts methodology,1994,2011,BPM6,Actual,General trade system,Budgetary central government,Enhanced General Data Dissemination System (e-GDDS),2012,\"Malaria Indicator Survey, 2017\",\"Integrated household survey (IHS), 2016/17\",,\"2008, 2013\",1999,2017\n",
      "SAS,South Asia,South Asia,South Asia,8S,,,,,8S,,,,,,,,,,,,,,,,,,,,2016\n",
      "SAU,Saudi Arabia,Saudi Arabia,Kingdom of Saudi Arabia,SA,Saudi Arabian riyal,,Middle East & North Africa,High income,SA,2010,,Value added at producer prices (VAP),,,Country uses the 2008 System of National Accounts methodology,,2011,BPM6,,General trade system,Budgetary central government,Enhanced General Data Dissemination System (e-GDDS),2010,\"Demographic survey, 2007\",,,2015,2006,2017\n",
      "SDN,Sudan,Sudan,Republic of the Sudan,SD,Sudanese pound,,Sub-Saharan Africa,Lower middle income,SD,1996,,Value added at basic prices (VAB),IDA,HIPC,Country uses the 1968 System of National Accounts methodology,,2011,BPM6,Preliminary,General trade system,,Enhanced General Data Dissemination System (e-GDDS),2008,\"Multiple Indicator Cluster Survey, 2014\",\"Expenditure survey/budget survey (ES/BS), 2009\",,,2001,2017\n",
      "SEN,Senegal,Senegal,Republic of Senegal,SN,West African CFA franc,,Sub-Saharan Africa,Lower middle income,SN,2014,,Value added at basic prices (VAB),IDA,HIPC,Country uses the 2008 System of National Accounts methodology,,2011,BPM6,Actual,General trade system,Budgetary central government,Special Data Dissemination Standard (SDDS),2013,\"Continuous Demographic and Health Survey, 2017\",\"Priority survey (PS), 2011/12\",,2013,2012,2017\n",
      "SGP,Singapore,Singapore,Republic of Singapore,SG,Singapore dollar,Fiscal year end: March 31; reporting period for national accounts data: CY.,East Asia & Pacific,High income,SG,2015,,Value added at basic prices (VAB),,,Country uses the 2008 System of National Accounts methodology,,2011,BPM6,,General trade system,Consolidated central government,Special Data Dissemination Standard (SDDS),2010. Population data compiled from administrative registers.,\"National Health Survey, 2010\",,Yes,,2014,2017\n",
      "SLB,Solomon Islands,Solomon Islands,Solomon Islands,SB,Solomon Islands dollar,,East Asia & Pacific,Lower middle income,SB,2004,,Value added at basic prices (VAB),IDA,,Country uses the 1993 System of National Accounts methodology,,2011 (household consumption only).,BPM6,Actual,Special trade system,Budgetary central government,Enhanced General Data Dissemination System (e-GDDS),2009,\"Solomon Islands Demographic and Health Survey, 2006/07\",\"Integrated household survey (IHS), 2012/13\",,,,2017\n",
      "SLE,Sierra Leone,Sierra Leone,Republic of Sierra Leone,SL,Sierra Leonean leone,,Sub-Saharan Africa,Low income,SL,2006,,Value added at basic prices (VAB),IDA,HIPC,Country uses the 1993 System of National Accounts methodology,,2011,BPM5 (Converted into BPM6 by IMF),Actual,General trade system,Consolidated central government,Enhanced General Data Dissemination System (e-GDDS),2015,\"Demographic and Health Survey, 2018\",\"Integrated household survey (IHS), 2011\",,,1993,2017\n",
      "SLV,El Salvador,El Salvador,Republic of El Salvador,SV,U.S. dollar,,Latin America & Caribbean,Lower middle income,SV,Original chained constant price data are rescaled.,2014,Value added at basic prices (VAB),IBRD,,Country uses the 2008 System of National Accounts methodology,,2011,BPM6,Actual,General trade system,Consolidated central government,Special Data Dissemination Standard (SDDS),2007,\"Multiple Indicator Cluster Survey, 2014\",\"Integrated household survey (IHS), 2017\",Yes,2007-2008,1998,2017\n",
      "SMR,San Marino,San Marino,Republic of San Marino,SM,Euro,,Europe & Central Asia,High income,SM,2007,,Value added at basic prices (VAB),,,Country uses the 1993 System of National Accounts methodology,,,,,,Consolidated central government,Enhanced General Data Dissemination System (e-GDDS),2010,,,Yes,,,\n",
      "SOM,Somalia,Somalia,Somali Democratic Republic,SO,Somali shilling,,Sub-Saharan Africa,Low income,SO,,,Value added at basic prices (VAB),IDA,HIPC,Country uses the 1968 System of National Accounts methodology,1977–90,,BPM5 (Converted into BPM6 by IMF),Estimate,,,,1987,\"Multiple Indicator Cluster Survey, 2006\",,,,1986,\n",
      "SRB,Serbia,Serbia,Republic of Serbia,RS,New Serbian dinar,\"Montenegro declared independence from Serbia and Montenegro on June 3, 2006. Where available, data for each country are shown separately. However, for Serbia, some indicators, such as those series for which data appear only for Serbia and not Montenegro--e.g., aid, environment, external debt, balance of payments, various social indicators excluding population--continue to include data for Montenegro through 2005. Moreover, data from 1999 onward for Serbia for most indicators exclude data for Kosovo, 1999 being the year when Kosovo became a territory under international administration pursuant to UN Security Council Resolution 1244 (1999); any exceptions are noted. Kosovo became a World Bank member on June 29, 2009; available data are shown separately for Kosovo. In 2011, the Statistical Office of Serbia improved the methodology of national accounts data for 2003 onward. Specifically, the classification of sectors was revised.\",Europe & Central Asia,Upper middle income,YF,Original chained constant price data are rescaled.,2010,Value added at basic prices (VAB),IBRD,,Country uses the 2008 System of National Accounts methodology,,Rolling,BPM6,Actual,General trade system,Consolidated central government,Enhanced General Data Dissemination System (e-GDDS),2011,\"Multiple Indicator Cluster Survey, 2014\",\"Expenditure survey/budget survey (ES/BS), 2016\",Yes,2012,2014,2017\n",
      "SSA,Sub-Saharan Africa (excluding high income),Sub-Saharan Africa (excluding high income),Sub-Saharan Africa (excluding high income),ZF,,Sub-Saharan Africa regional aggregate (does not include high-income economies).,,,ZF,,,,,,,,,,,,,,,,,,,,2016\n",
      "SSD,South Sudan,South Sudan,Republic of South Sudan,SS,South Sudanese Pound,,Sub-Saharan Africa,Low income,SS,2009,,Value added at basic prices (VAB),IDA,,Country uses the 2008 System of National Accounts methodology,,,BPM6,,,,,2008,\"Multiple Indicator Cluster Survey, 2010\",\"Expenditure survey/budget survey (ES/BS), 2009\",,,,\n",
      "SSF,Sub-Saharan Africa,Sub-Saharan Africa,Sub-Saharan Africa,ZG,,Sub-Saharan Africa regional aggregate (includes all income levels).,,,ZG,,,,,,,,,,,,,,,,,,,,2016\n",
      "SST,Small states,Small states,Small states,S1,,Small states aggregate. Includes 41 members of the Small States Forum.,,,S1,,,,,,,,,,,,,,,,,,,,2016\n",
      "STP,São Tomé and Principe,São Tomé and Principe,Democratic Republic of São Tomé and Principe,ST,São Tomé and Principe dobra,National account data were adjusted to reflect the new banknote (1 new Dobra STN = 1000 old Dobra STD),Sub-Saharan Africa,Lower middle income,ST,2008,,Value added at basic prices (VAB),IDA,HIPC,Country uses the 1993 System of National Accounts methodology,,2011,BPM6,Actual,Special trade system,Budgetary central government,Enhanced General Data Dissemination System (e-GDDS),2012,\"Multiple Indicator Cluster Survey, 2014\",\"Priority survey (PS), 2010\",Yes,,,2017\n",
      "SUR,Suriname,Suriname,Republic of Suriname,SR,Suriname dollar,,Latin America & Caribbean,Upper middle income,SR,2007,,Value added at basic prices (VAB),IBRD,,Country uses the 1993 System of National Accounts methodology,,2011,BPM5 (Converted into BPM6 by IMF),,General trade system,Budgetary central government,Enhanced General Data Dissemination System (e-GDDS),2012,\"Demographic and Health Survey, 2018\",\"Expenditure survey/budget survey (ES/BS), 1999\",Yes,2008-2009,,2017\n",
      "SVK,Slovak Republic,Slovak Republic,Slovak Republic,SK,Euro,\"A simple multiplier is used to convert the national currencies of EMU members to euros. The following irrevocable euro conversion rate entered into force on January 1, 2009: 1 euro = 30.126 Slovak koruna. Please note that historical data are not actual euros and are not comparable or suitable for aggregation across countries.\",Europe & Central Asia,High income,SK,Original chained constant price data are rescaled.,2010,Value added at basic prices (VAB),,Euro area,Country uses the 2008 System of National Accounts methodology,,Rolling,BPM6,,General trade system,Consolidated central government,Special Data Dissemination Standard (SDDS),2011,\"World Health Survey, 2003\",\"Income survey (IS), 2015\",Yes,2010,2013,2017\n",
      "SVN,Slovenia,Slovenia,Republic of Slovenia,SI,Euro,\"A simple multiplier is used to convert the national currencies of EMU members to euros. The following irrevocable euro conversion rate entered into force on January 1, 2007: 1 euro = 239.64 Slovenian tolar. Please note that historical data are not actual euros and are not comparable or suitable for aggregation across countries.\",Europe & Central Asia,High income,SI,Original chained constant price data are rescaled.,2010,Value added at basic prices (VAB),,Euro area,Country uses the 2008 System of National Accounts methodology,,Rolling,BPM6,,Special trade system,Consolidated central government,Special Data Dissemination Standard (SDDS),2018. Population data compiled from administrative registers.,\"World Health Survey, 2003\",\"Income survey (IS), 2015\",Yes,2010,2013,2017\n",
      "SWE,Sweden,Sweden,Kingdom of Sweden,SE,Swedish krona,Fiscal year end: June 30; reporting period for national accounts data: CY.,Europe & Central Asia,High income,SE,Original chained constant price data are rescaled.,2010,Value added at basic prices (VAB),,,Country uses the 2008 System of National Accounts methodology,,Rolling,BPM6,,Special trade system,Consolidated central government,Special Data Dissemination Standard Plus (SDDS+),2011. Population data compiled from administrative registers.,,\"Income survey (IS), 2015\",Yes,2010,2014,2017\n",
      "SWZ,Eswatini,Eswatini,Kingdom of Eswatini,SZ,Swazi lilangeni,Fiscal year end: March 31; reporting period for national accounts data: CY. Authorities revised national accounts from 1999 to 2015.,Sub-Saharan Africa,Lower middle income,SZ,2011,,Value added at basic prices (VAB),IBRD,,Country uses the 2008 System of National Accounts methodology,,2011,BPM6,Actual,General trade system,Budgetary central government,Enhanced General Data Dissemination System (e-GDDS),2017,\"Multiple Indicator Cluster Survey, 2014\",\"Expenditure survey/budget survey (ES/BS), 2009/10\",,,2011,2017\n",
      "SXM,Sint Maarten (Dutch part),Sint Maarten (Dutch part),Sint Maarten (Dutch part),SX,Netherlands Antillean guilder,,Latin America & Caribbean,High income,SX,2011,,Value added at basic prices (VAB),,,,,2011,BPM6,,Special trade system,,,2011,,,Yes,,,2016\n",
      "SYC,Seychelles,Seychelles,Republic of Seychelles,SC,Seychelles rupee,,Sub-Saharan Africa,High income,SC,2006,,Value added at basic prices (VAB),IBRD,,Country uses the 1993 System of National Accounts methodology,,2011,BPM6,,General trade system,Consolidated central government,Special Data Dissemination Standard (SDDS),2010,,\"Expenditure survey/budget survey (ES/BS), 2013\",Yes,2011,,2017\n",
      "SYR,Syrian Arab Republic,Syrian Arab Republic,Syrian Arab Republic,SY,Syrian pound,,Middle East & North Africa,Low income,SY,2000,,Value added at basic prices (VAB),IDA,,Country uses the 1968 System of National Accounts methodology,1970–2010,2011,BPM5 (Converted into BPM6 by IMF),Estimate,Special trade system,Budgetary central government,Enhanced General Data Dissemination System (e-GDDS),2004,\"Multiple Indicator Cluster Survey, 2006\",\"Expenditure survey/budget survey (ES/BS), 2007\",,,2005,2017\n",
      "TCA,Turks and Caicos Islands,Turks and Caicos Islands,Turks and Caicos Islands,TC,U.S. dollar,,Latin America & Caribbean,High income,TC,2012,,Value added at basic prices (VAB),,,Country uses the 1993 System of National Accounts methodology,,2011,,,General trade system,,,2012,,,Yes,,,\n",
      "TCD,Chad,Chad,Republic of Chad,TD,Central African CFA franc,,Sub-Saharan Africa,Low income,TD,2005,,Value added at basic prices (VAB),IDA,HIPC,Country uses the 1993 System of National Accounts methodology,,2011,BPM5 (Converted into BPM6 by IMF),Estimate,Special trade system,,Enhanced General Data Dissemination System (e-GDDS),2009,\"Demographic and Health Survey, 2014/15\",\"Priority survey (PS), 2011\",,,,2017\n",
      "TEA,East Asia & Pacific (IDA & IBRD),East Asia & Pacific (IDA & IBRD),East Asia & Pacific (IDA & IBRD),T4,,East Asia & Pacific (IDA & IBRD countries) aggregate.,,,T4,,,,,,,,,,,,,,,,,,,,2016\n",
      "TEC,Europe & Central Asia (IDA & IBRD),Europe & Central Asia (IDA & IBRD),Europe & Central Asia (IDA & IBRD),T7,,Europe & Central Asia (IDA & IBRD countries) aggregate.,,,T7,,,,,,,,,,,,,,,,,,,,2016\n",
      "TGO,Togo,Togo,Republic of Togo,TG,West African CFA franc,,Sub-Saharan Africa,Low income,TG,2007,,Value added at basic prices (VAB),IDA,HIPC,Country uses the 2008 System of National Accounts methodology,,2011,BPM6,Actual,Special trade system,Budgetary central government,Enhanced General Data Dissemination System (e-GDDS),2010,\"Multiple Indicator Cluster Survey, 2017; Malaria Indicator Survey, 2017\",\"Core Welfare Indicator Questionnaire Survey (CWIQ), 2015\",,2011-14,,2017\n",
      "THA,Thailand,Thailand,Kingdom of Thailand,TH,Thai baht,Fiscal year end: September 30; reporting period for national accounts data: CY.,East Asia & Pacific,Upper middle income,TH,2002,,Value added at producer prices (VAP),IBRD,,Country uses the 2008 System of National Accounts methodology,,2011,BPM6,Actual,Special trade system,Consolidated central government,Special Data Dissemination Standard (SDDS),2010,\"Multiple Indicator Cluster Survey, 2015/16\",\"Integrated household survey (IHS), 2015\",,2013,2011,2017\n",
      "TJK,Tajikistan,Tajikistan,Republic of Tajikistan,TJ,Tajik somoni,,Europe & Central Asia,Low income,TJ,Original chained constant price data are rescaled.,2000,Value added at basic prices (VAB),IDA,,Country uses the 1993 System of National Accounts methodology,1990–95,2011,BPM6,Actual,General trade system,,Enhanced General Data Dissemination System (e-GDDS),2010,\"Demographic and Health Survey, 2017\",\"Expenditure survey/budget survey (ES/BS), 2015\",,2013,,2017\n",
      "TKM,Turkmenistan,Turkmenistan,Turkmenistan,TM,New Turkmen manat,,Europe & Central Asia,Upper middle income,TM,Original chained constant price data are rescaled.,2005,Value added at basic prices (VAB),IBRD,,Country uses the 1993 System of National Accounts methodology,\"1987–95, 1997–2007\",,BPM5 (Converted into BPM6 by IMF),Estimate,,,,2012,\"Multiple Indicator Cluster Survey, 2015/16\",\"Living Standards Measurement Study Survey (LSMS), 1998\",,,,2017\n",
      "TLA,Latin America & Caribbean (IDA & IBRD),Latin America & Caribbean (IDA & IBRD),Latin America & Caribbean (IDA & IBRD),T2,,Latin America & the Caribbean (IDA & IBRD countries) aggregate.,,,T2,,,,,,,,,,,,,,,,,,,,2016\n",
      "TLS,Timor-Leste,Timor-Leste,Democratic Republic of Timor-Leste,TL,U.S. dollar,,East Asia & Pacific,Lower middle income,TP,2015,,Value added at basic prices (VAB),Blend,,Country uses the 2008 System of National Accounts methodology,,,,,General trade system,,Enhanced General Data Dissemination System (e-GDDS),2015,\"Demographic and Health Survey, 2016\",\"Living Standards Measurement Study Survey (LSMS), 2014/15\",,,,2017\n",
      "TMN,Middle East & North Africa (IDA & IBRD),Middle East & North Africa (IDA & IBRD),Middle East & North Africa (IDA & IBRD),T3,,Middle East & North Africa (IDA & IBRD countries) aggregate.,,,T3,,,,,,,,,,,,,,,,,,,,2016\n",
      "TON,Tonga,Tonga,Kingdom of Tonga,TO,Tongan pa'anga,,East Asia & Pacific,Upper middle income,TO,2011,,Value added at basic prices (VAB),IDA,,Country uses the 1993 System of National Accounts methodology,,2011 (household consumption only).,BPM6,Actual,General trade system,Consolidated central government,Enhanced General Data Dissemination System (e-GDDS),2016,\"Demographic and Health Survey, 2012\",\"Integrated household survey (IHS), 2009\",,2015,1981,2017\n",
      "TSA,South Asia (IDA & IBRD),South Asia (IDA & IBRD),South Asia (IDA & IBRD),T5,,South Asia (IDA & IBRD countries) aggregate.,,,T5,,,,,,,,,,,,,,,,,,,,2016\n",
      "TSS,Sub-Saharan Africa (IDA & IBRD),Sub-Saharan Africa (IDA & IBRD),Sub-Saharan Africa (IDA & IBRD),T6,,Sub-Saharan Africa (IDA & IBRD countries) aggregate.,,,T6,,,,,,,,,,,,,,,,,,,,2016\n",
      "TTO,Trinidad and Tobago,Trinidad and Tobago,Republic of Trinidad and Tobago,TT,Trinidad and Tobago dollar,,Latin America & Caribbean,High income,TT,2012,,Value added at basic prices (VAB),IBRD,,Country uses the 2008 System of National Accounts methodology,,2011,BPM6,,Special trade system,,Enhanced General Data Dissemination System (e-GDDS),2011,\"Multiple Indicator Cluster Survey, 2011\",\"Integrated household survey (IHS), 1992\",Yes,,2006,2017\n",
      "TUN,Tunisia,Tunisia,Republic of Tunisia,TN,Tunisian dinar,,Middle East & North Africa,Lower middle income,TN,2010,2010,Value added at basic prices (VAB),IBRD,,Country uses the 1993 System of National Accounts methodology,,2011,BPM5 (Converted into BPM6 by IMF),Actual,General trade system,Budgetary central government,Special Data Dissemination Standard (SDDS),2014,\"Demographic and Health Survey, 2018\",\"Integrated household survey (IHS), 2015\",,,2010,2017\n",
      "TUR,Turkey,Turkey,Republic of Turkey,TR,New Turkish lira,,Europe & Central Asia,Upper middle income,TR,Original chained constant price data are rescaled.,2009,Value added at basic prices (VAB),IBRD,,Country uses the 2008 System of National Accounts methodology,,Rolling,BPM6,Actual,Special trade system,Consolidated central government,Special Data Dissemination Standard (SDDS),\"2011. Population data compiled from administrative registers in combination with other sources of data, such as a sample surveys.\",\"Demographic survey, 2018\",\"Expenditure survey/budget survey (ES/BS), 2016\",Yes,,2014,2017\n",
      "TUV,Tuvalu,Tuvalu,Tuvalu,TV,Australian dollar,,East Asia & Pacific,Upper middle income,TV,2005,,Value added at basic prices (VAB),IDA,,Country uses the 1968 System of National Accounts methodology,,2011 (household consumption only).,BPM6,,General trade system,,Enhanced General Data Dissemination System (e-GDDS),2012,\"Demographic and Health Survey, 2007\",\"Expenditure survey/budget survey (ES/BS), 2010\",,,,2017\n",
      "TZA,Tanzania,Tanzania,United Republic of Tanzania,TZ,Tanzanian shilling,,Sub-Saharan Africa,Low income,TZ,2015,,Value added at basic prices (VAB),IDA,HIPC,Country uses the 1993 System of National Accounts methodology,,2011,BPM6,Estimate,General trade system,Budgetary central government,Enhanced General Data Dissemination System (e-GDDS),2012,\"Malaria Indicator Survey, 2017\",\"Expenditure survey/budget survey (ES/BS), 2011/12\",,2007-2008,2010,2017\n",
      "UGA,Uganda,Uganda,Republic of Uganda,UG,Ugandan shilling,Fiscal year end: June 30; reporting period for national accounts data: FY.,Sub-Saharan Africa,Low income,UG,2009/10,,Value added at basic prices (VAB),IDA,HIPC,Country uses the 2008 System of National Accounts methodology,,2011,BPM6,Actual,General trade system,Consolidated central government,Enhanced General Data Dissemination System (e-GDDS),2014,\"Malaria Indicator Survey, 2018/19\",\"Integrated household survey (IHS), 2015/16\",,2008-2009,2000,2017\n",
      "UKR,Ukraine,Ukraine,Ukraine,UA,Ukrainian hryvnia,,Europe & Central Asia,Lower middle income,UA,Original chained constant price data are rescaled.,2010,Value added at basic prices (VAB),IBRD,,Country uses the 2008 System of National Accounts methodology,1987–95,2011,BPM6,Actual,General trade system,Consolidated central government,Special Data Dissemination Standard (SDDS),2001,\"Multiple Indicator Cluster Survey, 2012\",\"Integrated household survey (IHS), 2017\",Yes,,2014,2017\n",
      "UMC,Upper middle income,Upper middle income,Upper middle income,XT,,\"Upper middle income group aggregate. Upper-middle-income economies are those in which 2017 GNI per capita was between $3,896 and $12,055.\",,,XT,,,,,,,,,,,,,,,,,,,,2016\n",
      "URY,Uruguay,Uruguay,Oriental Republic of Uruguay,UY,Uruguayan peso,,Latin America & Caribbean,High income,UY,2005,,Value added at basic prices (VAB),IBRD,,Country uses the 1993 System of National Accounts methodology,,2011,BPM6,,Special trade system,Consolidated central government,Special Data Dissemination Standard (SDDS),2011,\"Multiple Indicator Cluster Survey, 2012/13\",\"Integrated household survey (IHS), 2017\",Yes,2011,2011,2017\n",
      "USA,United States,United States,United States of America,US,U.S. dollar,,North America,High income,US,Original chained constant price data are rescaled.,2010,Value added at basic prices (VAB),,,Country uses the 2008 System of National Accounts methodology,,2011,BPM6,,General trade system,Consolidated central government,Special Data Dissemination Standard Plus (SDDS+),2010,,\"Labor force survey (LFS), 2016\",Yes,2012,2011,2016\n",
      "UZB,Uzbekistan,Uzbekistan,Republic of Uzbekistan,UZ,Uzbek sum,,Europe & Central Asia,Lower middle income,UZ,Original chained constant price data are rescaled.,2010,Value added at basic prices (VAB),Blend,,Country uses the 1993 System of National Accounts methodology,1990–95,,,Actual,General trade system,Consolidated central government,Enhanced General Data Dissemination System (e-GDDS),1989,\"Multiple Indicator Cluster Survey, 2006\",\"Expenditure survey/budget survey (ES/BS), 2013\",Yes,,,2017\n",
      "VCT,St. Vincent and the Grenadines,St. Vincent and the Grenadines,St. Vincent and the Grenadines,VC,East Caribbean dollar,,Latin America & Caribbean,Upper middle income,VC,2006,,Value added at basic prices (VAB),Blend,,Country uses the 2008 System of National Accounts methodology,,2011,BPM6,Actual,Special trade system,Budgetary central government,Enhanced General Data Dissemination System (e-GDDS),2012,,,Yes,,,2017\n",
      "VEN,Venezuela,\"Venezuela, RB\",República Bolivariana de Venezuela,VE,Venezuelan bolivar fuerte,,Latin America & Caribbean,Upper middle income,VE,1997,,Value added at basic prices (VAB),IBRD,,Country uses the 1993 System of National Accounts methodology,,2011,BPM6,Estimate,General trade system,,Enhanced General Data Dissemination System (e-GDDS),2011,\"Multiple Indicator Cluster Survey, 2000\",\"Integrated household survey (IHS), 2015\",,2008,1998,2016\n",
      "VGB,British Virgin Islands,British Virgin Islands,British Virgin Islands,VG,U.S. dollar,,Latin America & Caribbean,High income,VG,,,,,,,,,,,,,,2010,\"STEPS Risk Factor Survey, 2010\",,Yes,,,\n",
      "VIR,Virgin Islands,Virgin Islands (U.S.),Virgin Islands of the United States,VI,U.S. dollar,,Latin America & Caribbean,High income,VI,2002,,Value added at basic prices (VAB),,,Country uses the 2008 System of National Accounts methodology,,,,,General trade system,,,2010,,,Yes,2012,,\n",
      "VNM,Vietnam,Vietnam,Socialist Republic of Vietnam,VN,Vietnamese dong,,East Asia & Pacific,Lower middle income,VN,2010,,Value added at basic prices (VAB),IBRD,,Country uses the 1993 System of National Accounts methodology,1991,2011,BPM6,Actual,General trade system,,Enhanced General Data Dissemination System (e-GDDS),2009,\"Multiple Indicator Cluster Survey, 2013/14\",\"Integrated household survey (IHS), 2016\",Yes,2016,2013,2017\n",
      "VUT,Vanuatu,Vanuatu,Republic of Vanuatu,VU,Vanuatu vatu,,East Asia & Pacific,Lower middle income,VU,2006,,Value added at basic prices (VAB),IDA,,Country uses the 1993 System of National Accounts methodology,,2011 (household consumption only).,BPM6,Actual,General trade system,Budgetary central government,Enhanced General Data Dissemination System (e-GDDS),2016,\"Vanuatu Demographic and Health Survey/Multiple Indicator Cluster Survey, 2013\",\"Integrated household survey (IHS), 2010\",,2007,,2017\n",
      "WLD,World,World,World,1W,,World aggregate.,,,1W,,,,,,,,,,,,,,,,,,,,2016\n",
      "WSM,Samoa,Samoa,Samoa,WS,Samoan tala,Fiscal year ends on June 30; reporting period for national accounts data: FY.,East Asia & Pacific,Upper middle income,WS,2009,,Value added at producer prices (VAP),IDA,,Country uses the 1993 System of National Accounts methodology,,2011 (household consumption only).,BPM6,Actual,General trade system,Budgetary central government,Enhanced General Data Dissemination System (e-GDDS),2016,\"Samoa Demographic and Health Survey, 2014\",\"Expenditure survey/budget survey (ES/BS), 2013\",,2009,,2017\n",
      "XKX,Kosovo,Kosovo,Republic of Kosovo,XK,Euro,,Europe & Central Asia,Upper middle income,XK,Original chained constant price data are rescaled.,2008,Value added at basic prices (VAB),IDA,,Country uses the 1993 System of National Accounts methodology,,,BPM6,Actual,,,Enhanced General Data Dissemination System (e-GDDS),2011,\"Multiple Indicator Cluster Survey, 2013/14\",\"Expenditure survey/budget survey (ES/BS), 2015\",,2014,,\n",
      "YEM,Yemen,\"Yemen, Rep.\",Republic of Yemen,YE,Yemeni rial,,Middle East & North Africa,Low income,RY,1990,,Value added at basic prices (VAB),IDA,,Country uses the 1993 System of National Accounts methodology,1990–96,2011,BPM5 (Converted into BPM6 by IMF),Actual,Special trade system,,Enhanced General Data Dissemination System (e-GDDS),2004,\"Demographic and Health Survey, 2013\",\"Expenditure survey/budget survey (ES/BS), 2014\",,,2012,2017\n",
      "ZAF,South Africa,South Africa,Republic of South Africa,ZA,South African rand,Fiscal year end: March 31; reporting period for national accounts data: CY.,Sub-Saharan Africa,Upper middle income,ZA,2010,2010,Value added at basic prices (VAB),IBRD,,Country uses the 2008 System of National Accounts methodology,,2011,BPM6,Estimate,General trade system,Consolidated central government,Special Data Dissemination Standard (SDDS),2011,\"Demographic and Health Survey, 2016\",\"Expenditure survey/budget survey (ES/BS), 2014/15\",,2007,2010,2017\n",
      "ZMB,Zambia,Zambia,Republic of Zambia,ZM,New Zambian kwacha,\"National accounts data were rebased to reflect the January 1, 2013, introduction of the new Zambian kwacha at a rate of 1,000 old kwacha = 1 new kwacha.\",Sub-Saharan Africa,Lower middle income,ZM,2010,,Value added at basic prices (VAB),IDA,HIPC,Country uses the 2008 System of National Accounts methodology,1990–92,2011,BPM6,Actual,General trade system,Budgetary central government,Enhanced General Data Dissemination System (e-GDDS),2010,\"Demographic and Health Survey, 2013/14\",\"Integrated household survey (IHS), 2015\",,,1994,2017\n",
      "ZWE,Zimbabwe,Zimbabwe,Republic of Zimbabwe,ZW,U.S. dollar,,Sub-Saharan Africa,Lower middle income,ZW,2012,,Value added at basic prices (VAB),Blend,,Country uses the 1993 System of National Accounts methodology,\"1991, 1998\",2011,BPM6,Actual,General trade system,Budgetary central government,Enhanced General Data Dissemination System (e-GDDS),2012,\"Demographic and Health Survey, 2015\",\"Integrated household survey (IHS), 2011/12\",,,,2017\n"
     ]
    }
   ],
   "source": [
    "awk '{print}' wdicountry.csv"
   ]
  },
  {
   "cell_type": "markdown",
   "id": "9a3402a7-a214-444f-b12c-1a18c47c0acc",
   "metadata": {},
   "source": [
    "Print only the first column, the columns are numbered from $1..$n, and $0 represents the full file."
   ]
  },
  {
   "cell_type": "code",
   "execution_count": null,
   "id": "bf0142fa-67bb-445e-8443-6d4ce554c61c",
   "metadata": {
    "tags": []
   },
   "outputs": [],
   "source": [
    "awk '{print $1}' wdicountry.csv"
   ]
  },
  {
   "cell_type": "markdown",
   "id": "da81b0b5-be91-4f94-ad0b-78717463c15b",
   "metadata": {},
   "source": [
    "Notice the file prints more than one column, despite us telling it to print only $1, this is because awk uses space as the field separator by default, we need to define the field separator. Use -F then specify the field separator in quotes to tell awk how to delimit the columns."
   ]
  },
  {
   "cell_type": "markdown",
   "id": "d2d3e443-efa0-4dbd-bc47-fb03e4e19383",
   "metadata": {
    "jupyter": {
     "outputs_hidden": true
    },
    "tags": []
   },
   "source": [
    "awk -F ',' '{print $1}' wdicountry.csv"
   ]
  },
  {
   "cell_type": "code",
   "execution_count": null,
   "id": "13403d5f-2df6-4ae6-97e8-e57cb2094062",
   "metadata": {
    "tags": []
   },
   "outputs": [],
   "source": [
    "# print column 2\n",
    "awk -F ',' '{print $2}' wdicountry.csv"
   ]
  },
  {
   "cell_type": "code",
   "execution_count": null,
   "id": "6ed68a6a-3382-4d5d-b840-08ba9e897332",
   "metadata": {
    "tags": []
   },
   "outputs": [],
   "source": [
    "# print column 3\n",
    "awk -F ',' '{print $3}' wdicountry.csv"
   ]
  },
  {
   "cell_type": "markdown",
   "id": "7425011b-03b2-4d90-a403-816ae2cfd2ef",
   "metadata": {},
   "source": [
    "Lets swap two columns round, this is especially handy when we only care about two columns in a file."
   ]
  },
  {
   "cell_type": "code",
   "execution_count": null,
   "id": "a80b93b5-c096-4823-99a9-f61f749c0631",
   "metadata": {
    "tags": []
   },
   "outputs": [],
   "source": [
    "awk -F ',' '{print $2,$1}' wdicountry.csv"
   ]
  },
  {
   "cell_type": "markdown",
   "id": "4c638bad-b974-447b-9da0-ca6e4752cedf",
   "metadata": {},
   "source": [
    "## Regex with awk"
   ]
  },
  {
   "cell_type": "markdown",
   "id": "fa519c8a-d770-4601-8412-e1453ddfbaf1",
   "metadata": {},
   "source": [
    "Imagine we could tell awk to look for a pattern in a file and then return matches, this type of matching is called a regular expression, these are common in programming languages. To give only those countries that begin with A we need to specify a pattern, the ^ (caret) symbol indicates the start of the match, then the ~ (tilde) symbol indicates match."
   ]
  },
  {
   "cell_type": "code",
   "execution_count": null,
   "id": "24eb62c0-5f48-42d4-a075-babba3970964",
   "metadata": {},
   "outputs": [],
   "source": [
    "awk -F ',' '/^A/ {print $2}' wdicountry.csv"
   ]
  },
  {
   "cell_type": "code",
   "execution_count": null,
   "id": "113ade4d-f544-49fe-bc91-b7eb14a03bac",
   "metadata": {},
   "outputs": [],
   "source": [
    "awk -F ',' '/^A/ {print $2}' wdicountry.csv"
   ]
  },
  {
   "cell_type": "markdown",
   "id": "d2afde11-2349-4943-a108-323a32e11977",
   "metadata": {},
   "source": [
    "There is a problem here - this output is showing the United Arab Emirates as well as the other countries that start with A, try specifying the match to fix this. This is because we are scanning the first column, we can tell awk that we want it to check the second column by adding $2 ~ then the regexp."
   ]
  },
  {
   "cell_type": "code",
   "execution_count": null,
   "id": "6d507a74-eb7a-4165-b9cd-b48f24545e8a",
   "metadata": {},
   "outputs": [],
   "source": [
    "awk -F ',' '$2 ~ /^A/ {print $2}' wdicountry.csv"
   ]
  },
  {
   "cell_type": "markdown",
   "id": "22896e51-31a9-4590-82f3-97930c216c59",
   "metadata": {},
   "source": [
    "Inside the print statement you can specify multiple columns to print and in which order, can you find the column that has the currency used by each of the countries that start with A."
   ]
  },
  {
   "cell_type": "code",
   "execution_count": null,
   "id": "e5ec4816-da9a-4480-bd12-9910550b66a7",
   "metadata": {},
   "outputs": [],
   "source": [
    "awk -F ',' '$2 ~ /^A/ {print $2,$1}' wdicountry.csv"
   ]
  },
  {
   "cell_type": "markdown",
   "id": "bcb23ef4-1cdb-4443-b31c-0e6962910ca3",
   "metadata": {},
   "source": [
    "We can daisy-chain the matches using || as OR and && as AND, for example to print countries who are classified by the World Bank as upper middle income and begin with the letter A the following would work:"
   ]
  },
  {
   "cell_type": "code",
   "execution_count": null,
   "id": "9f757570-fe35-4cdf-a92c-59de971d46b2",
   "metadata": {},
   "outputs": [],
   "source": [
    "awk -F ',' '$2 ~ /^A/ && $9 ~ /Up/ {print $2,$9}' wdicountry.csv"
   ]
  },
  {
   "cell_type": "markdown",
   "id": "e5f87bec-ec3c-4460-9d34-dea9c2990c38",
   "metadata": {},
   "source": [
    "Now you are an expert in awk. Answer the following eight questions, these are useful notes to keep for future reference. Each question builds on the last so it is sensible to complete them in order. Have a look at the first row where the column names are shown:"
   ]
  },
  {
   "cell_type": "code",
   "execution_count": null,
   "id": "840d8faa-922f-40c0-ae2d-fe5563d4f324",
   "metadata": {},
   "outputs": [],
   "source": [
    "cat wdicountry.csv | head -1"
   ]
  },
  {
   "cell_type": "markdown",
   "id": "3c32b80c-7d71-40dd-9279-233f36cc69e9",
   "metadata": {},
   "source": [
    "We have a lot of information in the file about each of the countries, we can do some awk-ing, to get the information we want."
   ]
  },
  {
   "cell_type": "markdown",
   "id": "df16b53a-54d8-4c0c-902f-4655b85fad6e",
   "metadata": {},
   "source": [
    "# Questions"
   ]
  },
  {
   "cell_type": "markdown",
   "id": "a26b73ed-11ea-46b3-9b2e-9334352618d8",
   "metadata": {},
   "source": [
    "1. If `/^A/` matches any pattern that starts with A and `/a$/` matches any word that ends in a, can you find any country whose currency ends in o and starts with A?"
   ]
  },
  {
   "cell_type": "code",
   "execution_count": null,
   "id": "6edb3070-c9d0-48b7-8545-061f1a190618",
   "metadata": {},
   "outputs": [
    {
     "ename": "SyntaxError",
     "evalue": "invalid syntax (1233422437.py, line 2)",
     "output_type": "error",
     "traceback": [
      "\u001b[1;36m  Cell \u001b[1;32mIn[2], line 2\u001b[1;36m\u001b[0m\n\u001b[1;33m    awk -F, '$2 ~ /^A/ && $3 ~ /o$/ {print $1, $2, $3}' countries.csv\u001b[0m\n\u001b[1;37m                                                        ^\u001b[0m\n\u001b[1;31mSyntaxError\u001b[0m\u001b[1;31m:\u001b[0m invalid syntax\n"
     ]
    }
   ],
   "source": [
    "# add awk here\n",
    "awk -F, '$6 ~ /^A/ && $6 ~ /o$/ {print $2, $6}' countries.csv\n"
   ]
  },
  {
   "cell_type": "markdown",
   "id": "b780d3f7-3417-49c6-8e08-2f61cffe8143",
   "metadata": {},
   "source": [
    "2. When does the fiscal year end in Pakistan?"
   ]
  },
  {
   "cell_type": "code",
   "execution_count": null,
   "id": "407e9ddf-7919-4449-8970-16b7752e3218",
   "metadata": {},
   "outputs": [],
   "source": [
    "# add awk here\n",
    "awk -F, '$2 == \"Pakistan\" {print $7}' countries.csv\n"
   ]
  },
  {
   "cell_type": "markdown",
   "id": "e5fb7410-4048-41df-a226-3310719a7250",
   "metadata": {},
   "source": [
    "3. What currency is used in Zambia?"
   ]
  },
  {
   "cell_type": "code",
   "execution_count": null,
   "id": "ac693d9c-4858-4950-a02c-fe6600c5bff4",
   "metadata": {},
   "outputs": [],
   "source": [
    "# add awk here\n",
    "awk -F, '$2 == \"Zambia\" {print \"Currency:\", $6}' countries.csv\n"
   ]
  },
  {
   "cell_type": "markdown",
   "id": "dc3310b5-655b-41b8-9cd8-6424022b3b5c",
   "metadata": {},
   "source": [
    "4. How many countries have an official name that starts, ‘Republic of F’?"
   ]
  },
  {
   "cell_type": "code",
   "execution_count": null,
   "id": "42dbd7f4-c164-4279-9be5-91dcafc32d86",
   "metadata": {},
   "outputs": [],
   "source": [
    "# add awk here\n",
    "awk -F, '$4 ~ /^Republic of F/ {count++} END {print count}' countries.csv\n"
   ]
  },
  {
   "cell_type": "markdown",
   "id": "ac319a74-9ee5-4054-8e48-734ead39d762",
   "metadata": {},
   "source": [
    "5. According to this CSV, how many countries are high income and start with the letter B?"
   ]
  },
  {
   "cell_type": "code",
   "execution_count": null,
   "id": "f80b9955-e22f-4c4d-bc77-cf57d5ad50b8",
   "metadata": {},
   "outputs": [],
   "source": [
    "# add awk here\n",
    "awk -F, '$2 ~ /^B/ && $9 == \"High income\" {count++} END {print count}' countries.csv\n"
   ]
  },
  {
   "cell_type": "markdown",
   "id": "17d55920-a920-4bfe-b788-308906e4ca0c",
   "metadata": {},
   "source": [
    "6. Which countries start with the letter K and are classified by the World Bank as upper middle income?"
   ]
  },
  {
   "cell_type": "code",
   "execution_count": null,
   "id": "da5ea8bb-ba7c-4b1b-980f-29bdd3ce46cd",
   "metadata": {},
   "outputs": [],
   "source": [
    "# add awk here\n",
    "awk -F, '$2 ~ /^K/ && $9 == \"Upper middle income\" {print $2}' countries.csv\n"
   ]
  },
  {
   "cell_type": "markdown",
   "id": "e5ba205e-2678-4c4e-a93e-40698d937600",
   "metadata": {},
   "source": [
    "7. Which countries use the Euro and start with the letter S"
   ]
  },
  {
   "cell_type": "code",
   "execution_count": null,
   "id": "056148a1-7a64-4087-847b-fd76da654421",
   "metadata": {},
   "outputs": [],
   "source": [
    "# add awk here\n",
    "awk -F, '$2 ~ /^S/ && $6 == \"Euro\" {print $2}' countries.csv\n"
   ]
  },
  {
   "cell_type": "markdown",
   "id": "5af5e45a-ca15-484e-93ec-e50f16104a87",
   "metadata": {},
   "source": [
    "8. Write an awk statement that prints out the short name for Mexico, the long name, the currency and the 2 letter country abbreviation?"
   ]
  },
  {
   "cell_type": "code",
   "execution_count": null,
   "id": "823266d7-1d0a-48ff-9aa8-4e1a1b7f3c69",
   "metadata": {},
   "outputs": [],
   "source": [
    "# add awk here\n",
    "awk -F, '$2 == \"Mexico\" {print $2, $4, $6, $10}' countries.csv\n"
   ]
  },
  {
   "cell_type": "markdown",
   "id": "8da853d1-f76d-403d-a9c2-0bfab3bed394",
   "metadata": {},
   "source": [
    "<div class=\"alert alert-block alert-warning\">\n",
    "<b>Challenge Questions:</b> Who needs friends when you have awk\n",
    "</div>"
   ]
  },
  {
   "cell_type": "markdown",
   "id": "e1468ca5-5435-4394-b33b-d7a6ec1a821b",
   "metadata": {},
   "source": [
    "9. Modify the awk script below so that it will only print out the cube root of the variable `b`?"
   ]
  },
  {
   "cell_type": "code",
   "execution_count": null,
   "id": "3c5a81a1-613a-4cdd-a740-2f63b90309cf",
   "metadata": {},
   "outputs": [],
   "source": [
    "# add awk here\n",
    "awk -v b=27 'BEGIN { print b }'"
   ]
  },
  {
   "cell_type": "markdown",
   "id": "4b8240a3-5abf-49b6-b08e-df3d9a8aaafb",
   "metadata": {},
   "source": [
    "10. Given the variable `x`, modify the awk script so that when I change the value of `x` to any whole positive integer, awk will print out the following messages. Either: `x is not divisible by 5` or `x is divisible by 5`?"
   ]
  },
  {
   "cell_type": "code",
   "execution_count": null,
   "id": "289afb95-3aa7-448b-adfe-071bff7004c3",
   "metadata": {},
   "outputs": [],
   "source": [
    "# add awk here\n",
    "awk -x b=25 'BEGIN { print b }'"
   ]
  },
  {
   "cell_type": "markdown",
   "id": "905c9788-4a6b-475b-9f59-7e7247dd9116",
   "metadata": {},
   "source": [
    "11. The following script has two numbers, write a program to check if they are coprime integers. \n",
    "\n",
    "We will start off easy with this one 14 and 25 only share a factor of 1 (and 14 and 25 respectively), so these are coprime.\n",
    "\n",
    "Write a program that prints `x and y are coprime` or `x and y are not coprime`. Then change x to 15, which shares a factor of 5 with 25 (so isn't coprime) to test your program?"
   ]
  },
  {
   "cell_type": "code",
   "execution_count": null,
   "id": "a75c874c-da13-4228-8052-d72d384398ef",
   "metadata": {},
   "outputs": [],
   "source": [
    "# add awk here\n",
    "awk 'BEGIN { x = 14; y = 25; print \"Integers = \" x \" and \" y }'"
   ]
  },
  {
   "cell_type": "markdown",
   "id": "0f7d739b-52ea-4b48-9643-83673978212c",
   "metadata": {},
   "source": [
    "12. Keep writing this great program, if x and y are coprime, we may as well calculate N and PHI, calculate N and PHI if x and y are coprime and print those out with the program? But, do not print them if x and y are not coprime?"
   ]
  },
  {
   "cell_type": "code",
   "execution_count": null,
   "id": "c1bc1c38-a53b-48f8-8d2b-aaa21209c46e",
   "metadata": {},
   "outputs": [],
   "source": [
    "# add awk here"
   ]
  }
 ],
 "metadata": {
  "kernelspec": {
   "display_name": "Python 3",
   "language": "python",
   "name": "python3"
  },
  "language_info": {
   "codemirror_mode": {
    "name": "ipython",
    "version": 3
   },
   "file_extension": ".py",
   "mimetype": "text/x-python",
   "name": "python",
   "nbconvert_exporter": "python",
   "pygments_lexer": "ipython3",
   "version": "3.10.11"
  }
 },
 "nbformat": 4,
 "nbformat_minor": 5
}
