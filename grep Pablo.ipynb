{
 "cells": [
  {
   "cell_type": "markdown",
   "id": "b173f97d-0fe9-443a-b75d-36850f999a12",
   "metadata": {},
   "source": [
    "<div class=\"alert alert-block alert-info\">\n",
    "\n",
    "# SFS Notebook 2 - GNU Grep\n",
    "\n",
    "<b>Created for Edinburgh College 2025\n",
    "    by: </b> [michael.ferrie@edinburghcollege.ac.uk](mailto:michael.ferrie@edinburghcollege.ac.uk)"
   ]
  },
  {
   "cell_type": "markdown",
   "id": "bb4b9ed2-9208-4bb6-9e03-8d71a044bac8",
   "metadata": {},
   "source": [
    "![Coding Gif](https://cdn.githubraw.com/michaelferrie/labs/main/code-coding.gif)"
   ]
  },
  {
   "cell_type": "markdown",
   "id": "a58921b6-65d4-4304-8bc4-df420c498ff3",
   "metadata": {},
   "source": [
    "# Introduction\n",
    "\n",
    "Given one or more patterns, grep searches input files for matches to the patterns. When it finds a match in a line, it copies the line to standard output (by default), or produces whatever other sort of output you have requested with options.\n",
    "\n",
    "Though grep expects to do the matching on text, it has no limits on input line length other than available memory, and it can match arbitrary characters within a line. If the final byte of an input file is not a newline, grep silently supplies one. Since newline is also a separator for the list of patterns, there is no way to match newline characters in a text.\n",
    "\n",
    "# Structure of grep commands\n",
    "\n",
    "Grep programs often follow the structure:\n",
    "\n",
    "`grep [options] pattern [files]`"
   ]
  },
  {
   "cell_type": "markdown",
   "id": "79aa8ca3-63f5-41e7-bb67-3c8b936e4b1e",
   "metadata": {},
   "source": [
    "# Getting started (examples)\n",
    "\n",
    "Inside your Jupyter environment try out the followng examples:"
   ]
  },
  {
   "cell_type": "markdown",
   "id": "2d3ee240-0b89-4a47-baa8-4ac0cdbf4729",
   "metadata": {},
   "source": [
    " 1. Have a look at the contents of the dictionary with cat, might be quite a lot of output (-;"
   ]
  },
  {
   "cell_type": "code",
   "execution_count": 4,
   "id": "c8ea9d36-f9a2-4504-9f9c-c760c79a1018",
   "metadata": {},
   "outputs": [
    {
     "name": "stdout",
     "output_type": "stream",
     "text": [
      "A\n",
      "A's\n",
      "AMD\n",
      "AMD's\n",
      "AOL\n",
      "AOL's\n",
      "AWS\n",
      "AWS's\n",
      "Aachen\n",
      "Aachen's\n"
     ]
    }
   ],
   "source": [
    "cat /usr/share/dict/words | head -10"
   ]
  },
  {
   "cell_type": "markdown",
   "id": "07cba985-baa6-420f-a3b9-d69a0896f44b",
   "metadata": {},
   "source": [
    "2. Now to use some new grep skills, run grep on the dictionary and find any words that contain the letter x?"
   ]
  },
  {
   "cell_type": "code",
   "execution_count": 5,
   "id": "ef6d601e-17ed-41c9-ae4f-1d1e2c8de64a",
   "metadata": {},
   "outputs": [
    {
     "name": "stdout",
     "output_type": "stream",
     "text": [
      "Acrux\n",
      "Acrux's\n",
      "Ajax\n",
      "Ajax's\n",
      "Alex\n",
      "Alex's\n",
      "Alexander\n",
      "Alexander's\n",
      "Alexandra\n",
      "Alexandra's\n"
     ]
    }
   ],
   "source": [
    "grep x /usr/share/dict/words | head -10"
   ]
  },
  {
   "cell_type": "markdown",
   "id": "7e1ee9bd-8d37-4be7-86c0-31dfcb2dd4a9",
   "metadata": {},
   "source": [
    "3. Find any words in the dictionary stored in /usr/share/dict/words that start with the letter i using the caret ^ symbol?"
   ]
  },
  {
   "cell_type": "code",
   "execution_count": 11,
   "id": "a167165e-e396-4ba6-b90c-2eb6149a2fa9",
   "metadata": {},
   "outputs": [
    {
     "name": "stdout",
     "output_type": "stream",
     "text": [
      "iOS\n",
      "iOS's\n",
      "iPad\n",
      "iPad's\n",
      "iPhone\n",
      "iPhone's\n",
      "iPod\n",
      "iPod's\n",
      "iTunes\n",
      "iTunes's\n"
     ]
    }
   ],
   "source": [
    "grep '^i.' /usr/share/dict/words | head -10"
   ]
  },
  {
   "cell_type": "markdown",
   "id": "6a6197c6-65cf-4286-8f56-b1e2f11056eb",
   "metadata": {},
   "source": [
    "4. Find any words that end with the letter i using the dollar $ symbol?"
   ]
  },
  {
   "cell_type": "code",
   "execution_count": 13,
   "id": "0aa72247-82b6-4ba2-baf1-39a5ae5a4d4f",
   "metadata": {},
   "outputs": [
    {
     "name": "stdout",
     "output_type": "stream",
     "text": [
      "Afghani\n",
      "Agassi\n",
      "Agni\n",
      "Alexei\n",
      "Ali\n",
      "Alighieri\n",
      "Altai\n",
      "Amati\n",
      "Anasazi\n",
      "Andrei\n"
     ]
    }
   ],
   "source": [
    "grep '.i$' /usr/share/dict/words | head -10"
   ]
  },
  {
   "cell_type": "markdown",
   "id": "df16b53a-54d8-4c0c-902f-4655b85fad6e",
   "metadata": {},
   "source": [
    "# Questions"
   ]
  },
  {
   "cell_type": "markdown",
   "id": "969c197d-db37-42e4-a106-22c17096dcde",
   "metadata": {},
   "source": [
    "1. How many words in the dictionary stored at /usr/share/dict/word contain the phrase ‘polin’?"
   ]
  },
  {
   "cell_type": "code",
   "execution_count": null,
   "id": "ba5a9c3f-5c3e-4eea-95f0-43e9a67d5eee",
   "metadata": {},
   "outputs": [],
   "source": [
    "# add code here\n",
    "cat /usr/share/dict/words | grep -E '^i.{5}n$'\n"
   ]
  },
  {
   "cell_type": "markdown",
   "id": "dfe27006-0e75-463d-a627-803cf9e1d1d5",
   "metadata": {},
   "source": [
    "2. How many words in the dictionary stored at /usr/share/dict/word start with ‘catti’?"
   ]
  },
  {
   "cell_type": "code",
   "execution_count": null,
   "id": "aceaf256-9e41-4f82-a571-768856df0714",
   "metadata": {},
   "outputs": [],
   "source": [
    "# add code here\n",
    "cat /usr/share/dict/words | grep -E 'p$' | wc -l\n"
   ]
  },
  {
   "cell_type": "markdown",
   "id": "9e3dd406-5fd9-4f81-8bdd-531dd9b03f29",
   "metadata": {},
   "source": [
    "3. Find any words in the dictionary stored at /usr/share/dict/words that start with the letter i and end in the letter n that have seven characters?"
   ]
  },
  {
   "cell_type": "code",
   "execution_count": null,
   "id": "88212854-3347-4282-b06d-812b6f8901cd",
   "metadata": {},
   "outputs": [],
   "source": [
    "# add code here\n",
    "cat /usr/share/dict/words | grep -E 'polin' | wc -l\n"
   ]
  },
  {
   "cell_type": "markdown",
   "id": "f26e30fe-6ac6-4b62-8883-bff0bc424a88",
   "metadata": {},
   "source": [
    "4. How many words in the dictionary stored at /usr/share/dict/word end in the letter p?"
   ]
  },
  {
   "cell_type": "code",
   "execution_count": null,
   "id": "1afc0e66-4de6-4c94-9481-df80e5372278",
   "metadata": {},
   "outputs": [],
   "source": [
    "# add code here\n",
    "cat /usr/share/dict/words | grep -E '^catti' | wc -l\n"
   ]
  },
  {
   "cell_type": "markdown",
   "id": "361d61a3-c472-4af9-a4f7-e9326051a3da",
   "metadata": {},
   "source": [
    "### The access log\n",
    "\n",
    "Open jupyter and drag the access log file from moodle into the file manager. Have a look at the contents of the file using the cat."
   ]
  },
  {
   "cell_type": "markdown",
   "id": "dcee8f66-38d6-4325-8215-6d8e896ca8a3",
   "metadata": {},
   "source": [
    "5. Grep for every line that starts with 178?"
   ]
  },
  {
   "cell_type": "code",
   "execution_count": null,
   "id": "d8da5eaa-2412-4470-aa8f-4e6ea6721ef4",
   "metadata": {},
   "outputs": [],
   "source": [
    "# add code here\n",
    "grep -E '^178' access_log\n"
   ]
  },
  {
   "cell_type": "markdown",
   "id": "639f28b5-cc2a-4672-a761-9e1adc05283d",
   "metadata": {},
   "source": [
    "6. A .(dot or full stop) in a grep command means any character, but if we want to search for a . we need to escape it with \\ like this \\. Find out how many lines in the access log start with 178.32. ?"
   ]
  },
  {
   "cell_type": "code",
   "execution_count": null,
   "id": "9d81ad73-8ed8-4e1c-8936-d9b4b2ea8b1b",
   "metadata": {},
   "outputs": [],
   "source": [
    "# add code here\n",
    "grep -E '^178\\.32' access_log | wc -l\n"
   ]
  },
  {
   "cell_type": "markdown",
   "id": "963713e8-bb4d-4c6a-81ee-01da72c8add7",
   "metadata": {},
   "source": [
    "7. Pipe the contents of grep into the wc program with -l to get the number of lines, for example: `grep ‘Firefox’ access_log | wc -l`. How many lines contain the word Apple?"
   ]
  },
  {
   "cell_type": "code",
   "execution_count": null,
   "id": "73146738-1874-4e7a-bdab-4fd75a4596c5",
   "metadata": {},
   "outputs": [],
   "source": [
    "# add code here\n",
    "grep 'Apple' access_log | wc -l\n"
   ]
  },
  {
   "cell_type": "markdown",
   "id": "da543865-4651-4f1a-91a8-018646bf4116",
   "metadata": {},
   "source": [
    "8. Grep -v gives an inverse search, so you can search for a negative match, using the -v how many lines do not contain the word Apple?"
   ]
  },
  {
   "cell_type": "code",
   "execution_count": null,
   "id": "597df2df-de9b-471a-8fc9-35402731b9fa",
   "metadata": {},
   "outputs": [],
   "source": [
    "# add code here\n",
    "grep -v 'Apple' access_log | wc -l\n"
   ]
  }
 ],
 "metadata": {
  "kernelspec": {
   "display_name": "Bash",
   "language": "bash",
   "name": "bash"
  },
  "language_info": {
   "codemirror_mode": "shell",
   "file_extension": ".sh",
   "mimetype": "text/x-sh",
   "name": "bash"
  }
 },
 "nbformat": 4,
 "nbformat_minor": 5
}
